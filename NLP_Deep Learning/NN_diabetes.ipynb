{
 "cells": [
  {
   "cell_type": "code",
   "execution_count": 1,
   "metadata": {},
   "outputs": [],
   "source": [
    "import numpy as np\n",
    "import pandas as pd\n",
    "import torch\n",
    "import torch.nn as nn\n",
    "from sklearn.preprocessing import StandardScaler\n",
    "from torch.utils.data import Dataset"
   ]
  },
  {
   "cell_type": "code",
   "execution_count": 2,
   "metadata": {},
   "outputs": [
    {
     "data": {
      "text/html": [
       "<div>\n",
       "<style scoped>\n",
       "    .dataframe tbody tr th:only-of-type {\n",
       "        vertical-align: middle;\n",
       "    }\n",
       "\n",
       "    .dataframe tbody tr th {\n",
       "        vertical-align: top;\n",
       "    }\n",
       "\n",
       "    .dataframe thead th {\n",
       "        text-align: right;\n",
       "    }\n",
       "</style>\n",
       "<table border=\"1\" class=\"dataframe\">\n",
       "  <thead>\n",
       "    <tr style=\"text-align: right;\">\n",
       "      <th></th>\n",
       "      <th>Number of times pregnant</th>\n",
       "      <th>Plasma glucose concentration</th>\n",
       "      <th>Diastolic blood pressure</th>\n",
       "      <th>Triceps skin fold thickness</th>\n",
       "      <th>2-Hour serum insulin</th>\n",
       "      <th>Body mass index</th>\n",
       "      <th>Age</th>\n",
       "      <th>Class</th>\n",
       "    </tr>\n",
       "  </thead>\n",
       "  <tbody>\n",
       "    <tr>\n",
       "      <th>0</th>\n",
       "      <td>6</td>\n",
       "      <td>148</td>\n",
       "      <td>72</td>\n",
       "      <td>35</td>\n",
       "      <td>0</td>\n",
       "      <td>33.6</td>\n",
       "      <td>50</td>\n",
       "      <td>positive</td>\n",
       "    </tr>\n",
       "    <tr>\n",
       "      <th>1</th>\n",
       "      <td>1</td>\n",
       "      <td>85</td>\n",
       "      <td>66</td>\n",
       "      <td>29</td>\n",
       "      <td>0</td>\n",
       "      <td>26.6</td>\n",
       "      <td>31</td>\n",
       "      <td>negative</td>\n",
       "    </tr>\n",
       "    <tr>\n",
       "      <th>2</th>\n",
       "      <td>8</td>\n",
       "      <td>183</td>\n",
       "      <td>64</td>\n",
       "      <td>0</td>\n",
       "      <td>0</td>\n",
       "      <td>23.3</td>\n",
       "      <td>32</td>\n",
       "      <td>positive</td>\n",
       "    </tr>\n",
       "    <tr>\n",
       "      <th>3</th>\n",
       "      <td>1</td>\n",
       "      <td>89</td>\n",
       "      <td>66</td>\n",
       "      <td>23</td>\n",
       "      <td>94</td>\n",
       "      <td>28.1</td>\n",
       "      <td>21</td>\n",
       "      <td>negative</td>\n",
       "    </tr>\n",
       "    <tr>\n",
       "      <th>4</th>\n",
       "      <td>0</td>\n",
       "      <td>137</td>\n",
       "      <td>40</td>\n",
       "      <td>35</td>\n",
       "      <td>168</td>\n",
       "      <td>43.1</td>\n",
       "      <td>33</td>\n",
       "      <td>positive</td>\n",
       "    </tr>\n",
       "  </tbody>\n",
       "</table>\n",
       "</div>"
      ],
      "text/plain": [
       "   Number of times pregnant  Plasma glucose concentration  \\\n",
       "0                         6                           148   \n",
       "1                         1                            85   \n",
       "2                         8                           183   \n",
       "3                         1                            89   \n",
       "4                         0                           137   \n",
       "\n",
       "   Diastolic blood pressure  Triceps skin fold thickness  \\\n",
       "0                        72                           35   \n",
       "1                        66                           29   \n",
       "2                        64                            0   \n",
       "3                        66                           23   \n",
       "4                        40                           35   \n",
       "\n",
       "   2-Hour serum insulin  Body mass index  Age     Class  \n",
       "0                     0             33.6   50  positive  \n",
       "1                     0             26.6   31  negative  \n",
       "2                     0             23.3   32  positive  \n",
       "3                    94             28.1   21  negative  \n",
       "4                   168             43.1   33  positive  "
      ]
     },
     "execution_count": 2,
     "metadata": {},
     "output_type": "execute_result"
    }
   ],
   "source": [
    "# Load dataset\n",
    "data = pd.read_csv('diabetes.csv', )\n",
    "data.head()"
   ]
  },
  {
   "cell_type": "code",
   "execution_count": 3,
   "metadata": {},
   "outputs": [
    {
     "data": {
      "text/plain": [
       "(768, 8)"
      ]
     },
     "execution_count": 3,
     "metadata": {},
     "output_type": "execute_result"
    }
   ],
   "source": [
    "data.shape"
   ]
  },
  {
   "cell_type": "code",
   "execution_count": 4,
   "metadata": {},
   "outputs": [
    {
     "data": {
      "text/plain": [
       "Number of times pregnant        0\n",
       "Plasma glucose concentration    0\n",
       "Diastolic blood pressure        0\n",
       "Triceps skin fold thickness     0\n",
       "2-Hour serum insulin            0\n",
       "Body mass index                 0\n",
       "Age                             0\n",
       "Class                           0\n",
       "dtype: int64"
      ]
     },
     "execution_count": 4,
     "metadata": {},
     "output_type": "execute_result"
    }
   ],
   "source": [
    "data.isnull().sum()"
   ]
  },
  {
   "cell_type": "code",
   "execution_count": 5,
   "metadata": {},
   "outputs": [],
   "source": [
    "# Data is clean. lets create our features and label\n",
    "# Features\n",
    "x = data.iloc[:, 0:-1].values # to convert into numpy array\n",
    "y_string = list(data.iloc[:, -1])"
   ]
  },
  {
   "cell_type": "code",
   "execution_count": 6,
   "metadata": {},
   "outputs": [
    {
     "name": "stdout",
     "output_type": "stream",
     "text": [
      "[[  6.  148.   72.   35.    0.   33.6  50. ]\n",
      " [  1.   85.   66.   29.    0.   26.6  31. ]\n",
      " [  8.  183.   64.    0.    0.   23.3  32. ]]\n"
     ]
    }
   ],
   "source": [
    "print(x[:3])"
   ]
  },
  {
   "cell_type": "code",
   "execution_count": 7,
   "metadata": {},
   "outputs": [
    {
     "name": "stdout",
     "output_type": "stream",
     "text": [
      "['positive', 'negative', 'positive']\n"
     ]
    }
   ],
   "source": [
    "print(y_string[:3])"
   ]
  },
  {
   "cell_type": "code",
   "execution_count": 8,
   "metadata": {},
   "outputs": [],
   "source": [
    "# Convert strings to integers\n",
    "y_int = []\n",
    "for string in y_string:\n",
    "    if string == 'positive':\n",
    "        y_int.append(1)\n",
    "    else:\n",
    "        y_int.append(0)"
   ]
  },
  {
   "cell_type": "code",
   "execution_count": 9,
   "metadata": {},
   "outputs": [],
   "source": [
    "# Converting to numpy array with float datatype\n",
    "y = np.array(y_int, dtype='float64')"
   ]
  },
  {
   "cell_type": "code",
   "execution_count": 10,
   "metadata": {},
   "outputs": [],
   "source": [
    "# Normalizing features on to the scale of [0,1]\n",
    "sc = StandardScaler()\n",
    "x = sc.fit_transform(x)"
   ]
  },
  {
   "cell_type": "code",
   "execution_count": 11,
   "metadata": {},
   "outputs": [],
   "source": [
    "# Converting normalized feature inputs into PyTorch's tensors\n",
    "x = torch.tensor(x)\n",
    "# We have to match the features dimension for label as well, hence make 1D into a 2D tensor\n",
    "y = torch.tensor(y).unsqueeze(1)"
   ]
  },
  {
   "cell_type": "code",
   "execution_count": 12,
   "metadata": {},
   "outputs": [
    {
     "name": "stdout",
     "output_type": "stream",
     "text": [
      "torch.Size([768, 7]) torch.Size([768, 1])\n"
     ]
    }
   ],
   "source": [
    "print(x.shape, y.shape)"
   ]
  },
  {
   "cell_type": "code",
   "execution_count": 13,
   "metadata": {},
   "outputs": [],
   "source": [
    "class Dataset(Dataset):\n",
    "    \n",
    "    def __init__(self, x, y):\n",
    "        self.x = x\n",
    "        self.y = y\n",
    "    \n",
    "    def __getitem__(self, index):\n",
    "        \"\"\" Returns the item matching the index passed as argument\"\"\"\n",
    "        return self.x[index], self.y[index]\n",
    "    \n",
    "    def __len__(self):\n",
    "        return len(self.x)"
   ]
  },
  {
   "cell_type": "code",
   "execution_count": 14,
   "metadata": {},
   "outputs": [
    {
     "data": {
      "text/plain": [
       "768"
      ]
     },
     "execution_count": 14,
     "metadata": {},
     "output_type": "execute_result"
    }
   ],
   "source": [
    "dataset = Dataset(x,y)\n",
    "len(dataset)"
   ]
  },
  {
   "cell_type": "code",
   "execution_count": 15,
   "metadata": {},
   "outputs": [],
   "source": [
    "# Load the data into dataloader to preform batch processing and shuffling\n",
    "train_loader = torch.utils.data.DataLoader(dataset = dataset, batch_size=32, shuffle=True)"
   ]
  },
  {
   "cell_type": "code",
   "execution_count": 18,
   "metadata": {},
   "outputs": [
    {
     "name": "stdout",
     "output_type": "stream",
     "text": [
      "There are 24 number of batches\n",
      "For one iteration (batch) there exists : \n",
      " Data : torch.Size([32, 7]) \n",
      " Labels : torch.Size([32, 1])\n"
     ]
    }
   ],
   "source": [
    "# Let us take a look at dataloader\n",
    "print(\"There are {} number of batches\".format(len(train_loader)))\n",
    "\n",
    "for x,y in train_loader:\n",
    "    print(\"For one iteration (batch) there exists : \\n Data : {} \\n Labels : {}\".format(x.shape, y.shape))\n",
    "    break # This ensures loop stops after 1 round"
   ]
  },
  {
   "cell_type": "markdown",
   "metadata": {},
   "source": [
    "![demo](https://user-images.githubusercontent.com/30661597/60379583-246e5e80-9a68-11e9-8b7f-a4294234c201.png)"
   ]
  },
  {
   "cell_type": "code",
   "execution_count": 19,
   "metadata": {},
   "outputs": [],
   "source": [
    "# Let us build the neural network\n",
    "class Model(nn.Module):\n",
    "    \n",
    "    def __init__(self, input_features, output_features):\n",
    "        super(Model, self).__init__()\n",
    "        self.fc1 = nn.Linear(input_features, 5)\n",
    "        self.fc2 = nn.Linear(5,4)\n",
    "        self.fc3 = nn.Linear(4,3)\n",
    "        self.fc4 = nn.Linear(3,output_features)\n",
    "        self.tanh = nn.Tanh()\n",
    "        self.sigmoid = nn.Sigmoid()\n",
    "        \n",
    "        \n",
    "    def forward(self, x):\n",
    "        out = self.fc1(x)\n",
    "        out = self.tanh(out)\n",
    "        out = self.fc2(out)\n",
    "        out = self.tanh(out)\n",
    "        out = self.fc3(out)\n",
    "        out = self.tanh(out)\n",
    "        out = self.fc4(out)\n",
    "        out = self.sigmoid(out)\n",
    "        return out"
   ]
  },
  {
   "cell_type": "markdown",
   "metadata": {},
   "source": [
    "$H_{p}(q)=-\\frac{1}{N} \\sum_{i=1}^{N} y_{i} \\cdot \\log \\left(p\\left(y_{i}\\right)\\right)+\\left(1-y_{i}\\right) \\cdot \\log \\left(1-p\\left(y_{i}\\right)\\right)$\n",
    "\n",
    "\n",
    "cost = -(Y * torch.log(hypothesis) + (1 - Y) * torch.log(1 - hypothesis)).mean()"
   ]
  },
  {
   "cell_type": "code",
   "execution_count": 20,
   "metadata": {},
   "outputs": [
    {
     "name": "stderr",
     "output_type": "stream",
     "text": [
      "/home/sai_vyas/miniconda3/lib/python3.8/site-packages/torch/nn/_reduction.py:44: UserWarning: size_average and reduce args will be deprecated, please use reduction='mean' instead.\n",
      "  warnings.warn(warning.format(ret))\n"
     ]
    }
   ],
   "source": [
    "# Create the network (an object of the Net class)\n",
    "model = Model(7,1)\n",
    "#In Binary Cross Entropy: the input and output should have the same shape \n",
    "#size_average = True --> the losses are averaged over observations for each minibatch\n",
    "criterion = torch.nn.BCELoss(size_average=True)   \n",
    "# We will use SGD with momentum with a learning rate of 0.1\n",
    "optimizer = torch.optim.SGD(model.parameters(), lr=0.1, momentum=0.9)"
   ]
  },
  {
   "cell_type": "code",
   "execution_count": 21,
   "metadata": {},
   "outputs": [
    {
     "name": "stdout",
     "output_type": "stream",
     "text": [
      "Epoch 1/200, Loss: 0.697, Accuracy: 0.531\n",
      "Epoch 2/200, Loss: 0.628, Accuracy: 0.594\n",
      "Epoch 3/200, Loss: 0.294, Accuracy: 0.906\n",
      "Epoch 4/200, Loss: 0.469, Accuracy: 0.688\n",
      "Epoch 5/200, Loss: 0.490, Accuracy: 0.719\n",
      "Epoch 6/200, Loss: 0.458, Accuracy: 0.750\n",
      "Epoch 7/200, Loss: 0.492, Accuracy: 0.750\n",
      "Epoch 8/200, Loss: 0.536, Accuracy: 0.719\n",
      "Epoch 9/200, Loss: 0.446, Accuracy: 0.750\n",
      "Epoch 10/200, Loss: 0.618, Accuracy: 0.594\n",
      "Epoch 11/200, Loss: 0.328, Accuracy: 0.844\n",
      "Epoch 12/200, Loss: 0.547, Accuracy: 0.594\n",
      "Epoch 13/200, Loss: 0.582, Accuracy: 0.625\n",
      "Epoch 14/200, Loss: 0.521, Accuracy: 0.688\n",
      "Epoch 15/200, Loss: 0.438, Accuracy: 0.719\n",
      "Epoch 16/200, Loss: 0.423, Accuracy: 0.812\n",
      "Epoch 17/200, Loss: 0.508, Accuracy: 0.719\n",
      "Epoch 18/200, Loss: 0.512, Accuracy: 0.719\n",
      "Epoch 19/200, Loss: 0.375, Accuracy: 0.875\n",
      "Epoch 20/200, Loss: 0.544, Accuracy: 0.781\n",
      "Epoch 21/200, Loss: 0.513, Accuracy: 0.719\n",
      "Epoch 22/200, Loss: 0.516, Accuracy: 0.719\n",
      "Epoch 23/200, Loss: 0.498, Accuracy: 0.719\n",
      "Epoch 24/200, Loss: 0.638, Accuracy: 0.688\n",
      "Epoch 25/200, Loss: 0.374, Accuracy: 0.844\n",
      "Epoch 26/200, Loss: 0.341, Accuracy: 0.844\n",
      "Epoch 27/200, Loss: 0.448, Accuracy: 0.812\n",
      "Epoch 28/200, Loss: 0.327, Accuracy: 0.938\n",
      "Epoch 29/200, Loss: 0.470, Accuracy: 0.719\n",
      "Epoch 30/200, Loss: 0.291, Accuracy: 0.938\n",
      "Epoch 31/200, Loss: 0.307, Accuracy: 0.906\n",
      "Epoch 32/200, Loss: 0.516, Accuracy: 0.719\n",
      "Epoch 33/200, Loss: 0.531, Accuracy: 0.688\n",
      "Epoch 34/200, Loss: 0.362, Accuracy: 0.812\n",
      "Epoch 35/200, Loss: 0.331, Accuracy: 0.875\n",
      "Epoch 36/200, Loss: 0.413, Accuracy: 0.844\n",
      "Epoch 37/200, Loss: 0.571, Accuracy: 0.781\n",
      "Epoch 38/200, Loss: 0.404, Accuracy: 0.781\n",
      "Epoch 39/200, Loss: 0.454, Accuracy: 0.812\n",
      "Epoch 40/200, Loss: 0.443, Accuracy: 0.844\n",
      "Epoch 41/200, Loss: 0.356, Accuracy: 0.906\n",
      "Epoch 42/200, Loss: 0.515, Accuracy: 0.750\n",
      "Epoch 43/200, Loss: 0.404, Accuracy: 0.719\n",
      "Epoch 44/200, Loss: 0.519, Accuracy: 0.781\n",
      "Epoch 45/200, Loss: 0.517, Accuracy: 0.719\n",
      "Epoch 46/200, Loss: 0.311, Accuracy: 0.906\n",
      "Epoch 47/200, Loss: 0.520, Accuracy: 0.781\n",
      "Epoch 48/200, Loss: 0.420, Accuracy: 0.812\n",
      "Epoch 49/200, Loss: 0.481, Accuracy: 0.812\n",
      "Epoch 50/200, Loss: 0.534, Accuracy: 0.719\n",
      "Epoch 51/200, Loss: 0.337, Accuracy: 0.844\n",
      "Epoch 52/200, Loss: 0.424, Accuracy: 0.844\n",
      "Epoch 53/200, Loss: 0.439, Accuracy: 0.812\n",
      "Epoch 54/200, Loss: 0.392, Accuracy: 0.844\n",
      "Epoch 55/200, Loss: 0.510, Accuracy: 0.719\n",
      "Epoch 56/200, Loss: 0.216, Accuracy: 0.969\n",
      "Epoch 57/200, Loss: 0.451, Accuracy: 0.812\n",
      "Epoch 58/200, Loss: 0.436, Accuracy: 0.750\n",
      "Epoch 59/200, Loss: 0.215, Accuracy: 0.938\n",
      "Epoch 60/200, Loss: 0.481, Accuracy: 0.688\n",
      "Epoch 61/200, Loss: 0.283, Accuracy: 0.875\n",
      "Epoch 62/200, Loss: 0.592, Accuracy: 0.719\n",
      "Epoch 63/200, Loss: 0.452, Accuracy: 0.781\n",
      "Epoch 64/200, Loss: 0.343, Accuracy: 0.906\n",
      "Epoch 65/200, Loss: 0.489, Accuracy: 0.719\n",
      "Epoch 66/200, Loss: 0.588, Accuracy: 0.750\n",
      "Epoch 67/200, Loss: 0.395, Accuracy: 0.812\n",
      "Epoch 68/200, Loss: 0.491, Accuracy: 0.750\n",
      "Epoch 69/200, Loss: 0.461, Accuracy: 0.812\n",
      "Epoch 70/200, Loss: 0.405, Accuracy: 0.844\n",
      "Epoch 71/200, Loss: 0.542, Accuracy: 0.750\n",
      "Epoch 72/200, Loss: 0.404, Accuracy: 0.812\n",
      "Epoch 73/200, Loss: 0.542, Accuracy: 0.688\n",
      "Epoch 74/200, Loss: 0.522, Accuracy: 0.656\n",
      "Epoch 75/200, Loss: 0.600, Accuracy: 0.719\n",
      "Epoch 76/200, Loss: 0.535, Accuracy: 0.719\n",
      "Epoch 77/200, Loss: 0.349, Accuracy: 0.906\n",
      "Epoch 78/200, Loss: 0.295, Accuracy: 0.906\n",
      "Epoch 79/200, Loss: 0.488, Accuracy: 0.781\n",
      "Epoch 80/200, Loss: 0.493, Accuracy: 0.750\n",
      "Epoch 81/200, Loss: 0.375, Accuracy: 0.844\n",
      "Epoch 82/200, Loss: 0.392, Accuracy: 0.844\n",
      "Epoch 83/200, Loss: 0.439, Accuracy: 0.812\n",
      "Epoch 84/200, Loss: 0.496, Accuracy: 0.781\n",
      "Epoch 85/200, Loss: 0.334, Accuracy: 0.812\n",
      "Epoch 86/200, Loss: 0.323, Accuracy: 0.875\n",
      "Epoch 87/200, Loss: 0.407, Accuracy: 0.781\n",
      "Epoch 88/200, Loss: 0.552, Accuracy: 0.688\n",
      "Epoch 89/200, Loss: 0.518, Accuracy: 0.719\n",
      "Epoch 90/200, Loss: 0.478, Accuracy: 0.750\n",
      "Epoch 91/200, Loss: 0.520, Accuracy: 0.750\n",
      "Epoch 92/200, Loss: 0.464, Accuracy: 0.750\n",
      "Epoch 93/200, Loss: 0.451, Accuracy: 0.812\n",
      "Epoch 94/200, Loss: 0.354, Accuracy: 0.875\n",
      "Epoch 95/200, Loss: 0.453, Accuracy: 0.781\n",
      "Epoch 96/200, Loss: 0.385, Accuracy: 0.812\n",
      "Epoch 97/200, Loss: 0.492, Accuracy: 0.750\n",
      "Epoch 98/200, Loss: 0.515, Accuracy: 0.812\n",
      "Epoch 99/200, Loss: 0.454, Accuracy: 0.812\n",
      "Epoch 100/200, Loss: 0.391, Accuracy: 0.750\n",
      "Epoch 101/200, Loss: 0.533, Accuracy: 0.688\n",
      "Epoch 102/200, Loss: 0.343, Accuracy: 0.844\n",
      "Epoch 103/200, Loss: 0.405, Accuracy: 0.781\n",
      "Epoch 104/200, Loss: 0.306, Accuracy: 0.812\n",
      "Epoch 105/200, Loss: 0.361, Accuracy: 0.844\n",
      "Epoch 106/200, Loss: 0.519, Accuracy: 0.844\n",
      "Epoch 107/200, Loss: 0.271, Accuracy: 0.938\n",
      "Epoch 108/200, Loss: 0.410, Accuracy: 0.844\n",
      "Epoch 109/200, Loss: 0.344, Accuracy: 0.875\n",
      "Epoch 110/200, Loss: 0.564, Accuracy: 0.750\n",
      "Epoch 111/200, Loss: 0.272, Accuracy: 0.906\n",
      "Epoch 112/200, Loss: 0.392, Accuracy: 0.812\n",
      "Epoch 113/200, Loss: 0.255, Accuracy: 0.938\n",
      "Epoch 114/200, Loss: 0.546, Accuracy: 0.781\n",
      "Epoch 115/200, Loss: 0.330, Accuracy: 0.844\n",
      "Epoch 116/200, Loss: 0.445, Accuracy: 0.719\n",
      "Epoch 117/200, Loss: 0.618, Accuracy: 0.719\n",
      "Epoch 118/200, Loss: 0.443, Accuracy: 0.719\n",
      "Epoch 119/200, Loss: 0.335, Accuracy: 0.875\n",
      "Epoch 120/200, Loss: 0.433, Accuracy: 0.750\n",
      "Epoch 121/200, Loss: 0.395, Accuracy: 0.812\n",
      "Epoch 122/200, Loss: 0.498, Accuracy: 0.781\n",
      "Epoch 123/200, Loss: 0.344, Accuracy: 0.906\n",
      "Epoch 124/200, Loss: 0.423, Accuracy: 0.812\n",
      "Epoch 125/200, Loss: 0.411, Accuracy: 0.844\n",
      "Epoch 126/200, Loss: 0.417, Accuracy: 0.844\n",
      "Epoch 127/200, Loss: 0.452, Accuracy: 0.875\n",
      "Epoch 128/200, Loss: 0.383, Accuracy: 0.812\n",
      "Epoch 129/200, Loss: 0.479, Accuracy: 0.719\n",
      "Epoch 130/200, Loss: 0.388, Accuracy: 0.844\n",
      "Epoch 131/200, Loss: 0.497, Accuracy: 0.781\n",
      "Epoch 132/200, Loss: 0.350, Accuracy: 0.781\n",
      "Epoch 133/200, Loss: 0.444, Accuracy: 0.812\n",
      "Epoch 134/200, Loss: 0.385, Accuracy: 0.844\n",
      "Epoch 135/200, Loss: 0.356, Accuracy: 0.844\n",
      "Epoch 136/200, Loss: 0.445, Accuracy: 0.750\n",
      "Epoch 137/200, Loss: 0.339, Accuracy: 0.844\n",
      "Epoch 138/200, Loss: 0.517, Accuracy: 0.719\n",
      "Epoch 139/200, Loss: 0.427, Accuracy: 0.844\n",
      "Epoch 140/200, Loss: 0.314, Accuracy: 0.844\n",
      "Epoch 141/200, Loss: 0.346, Accuracy: 0.844\n",
      "Epoch 142/200, Loss: 0.311, Accuracy: 0.906\n",
      "Epoch 143/200, Loss: 0.397, Accuracy: 0.812\n",
      "Epoch 144/200, Loss: 0.278, Accuracy: 0.906\n",
      "Epoch 145/200, Loss: 0.551, Accuracy: 0.688\n",
      "Epoch 146/200, Loss: 0.342, Accuracy: 0.875\n",
      "Epoch 147/200, Loss: 0.309, Accuracy: 0.844\n",
      "Epoch 148/200, Loss: 0.478, Accuracy: 0.750\n",
      "Epoch 149/200, Loss: 0.424, Accuracy: 0.875\n",
      "Epoch 150/200, Loss: 0.317, Accuracy: 0.875\n",
      "Epoch 151/200, Loss: 0.439, Accuracy: 0.750\n",
      "Epoch 152/200, Loss: 0.616, Accuracy: 0.594\n",
      "Epoch 153/200, Loss: 0.413, Accuracy: 0.844\n",
      "Epoch 154/200, Loss: 0.302, Accuracy: 0.875\n",
      "Epoch 155/200, Loss: 0.431, Accuracy: 0.812\n",
      "Epoch 156/200, Loss: 0.501, Accuracy: 0.781\n",
      "Epoch 157/200, Loss: 0.370, Accuracy: 0.844\n",
      "Epoch 158/200, Loss: 0.563, Accuracy: 0.688\n",
      "Epoch 159/200, Loss: 0.337, Accuracy: 0.844\n",
      "Epoch 160/200, Loss: 0.398, Accuracy: 0.844\n",
      "Epoch 161/200, Loss: 0.294, Accuracy: 0.875\n",
      "Epoch 162/200, Loss: 0.504, Accuracy: 0.719\n",
      "Epoch 163/200, Loss: 0.405, Accuracy: 0.844\n",
      "Epoch 164/200, Loss: 0.290, Accuracy: 0.875\n",
      "Epoch 165/200, Loss: 0.562, Accuracy: 0.719\n",
      "Epoch 166/200, Loss: 0.345, Accuracy: 0.875\n",
      "Epoch 167/200, Loss: 0.387, Accuracy: 0.812\n",
      "Epoch 168/200, Loss: 0.368, Accuracy: 0.875\n",
      "Epoch 169/200, Loss: 0.375, Accuracy: 0.781\n",
      "Epoch 170/200, Loss: 0.492, Accuracy: 0.781\n",
      "Epoch 171/200, Loss: 0.454, Accuracy: 0.781\n",
      "Epoch 172/200, Loss: 0.290, Accuracy: 0.938\n",
      "Epoch 173/200, Loss: 0.500, Accuracy: 0.688\n",
      "Epoch 174/200, Loss: 0.295, Accuracy: 0.906\n",
      "Epoch 175/200, Loss: 0.513, Accuracy: 0.750\n",
      "Epoch 176/200, Loss: 0.441, Accuracy: 0.812\n",
      "Epoch 177/200, Loss: 0.501, Accuracy: 0.750\n",
      "Epoch 178/200, Loss: 0.430, Accuracy: 0.844\n",
      "Epoch 179/200, Loss: 0.275, Accuracy: 0.938\n",
      "Epoch 180/200, Loss: 0.446, Accuracy: 0.719\n",
      "Epoch 181/200, Loss: 0.497, Accuracy: 0.781\n",
      "Epoch 182/200, Loss: 0.463, Accuracy: 0.781\n",
      "Epoch 183/200, Loss: 0.484, Accuracy: 0.781\n",
      "Epoch 184/200, Loss: 0.413, Accuracy: 0.750\n",
      "Epoch 185/200, Loss: 0.315, Accuracy: 0.844\n",
      "Epoch 186/200, Loss: 0.236, Accuracy: 0.906\n",
      "Epoch 187/200, Loss: 0.289, Accuracy: 0.906\n",
      "Epoch 188/200, Loss: 0.590, Accuracy: 0.750\n",
      "Epoch 189/200, Loss: 0.318, Accuracy: 0.906\n",
      "Epoch 190/200, Loss: 0.407, Accuracy: 0.844\n",
      "Epoch 191/200, Loss: 0.393, Accuracy: 0.781\n",
      "Epoch 192/200, Loss: 0.492, Accuracy: 0.750\n",
      "Epoch 193/200, Loss: 0.309, Accuracy: 0.844\n",
      "Epoch 194/200, Loss: 0.311, Accuracy: 0.875\n",
      "Epoch 195/200, Loss: 0.556, Accuracy: 0.750\n",
      "Epoch 196/200, Loss: 0.384, Accuracy: 0.844\n",
      "Epoch 197/200, Loss: 0.453, Accuracy: 0.750\n",
      "Epoch 198/200, Loss: 0.475, Accuracy: 0.719\n",
      "Epoch 199/200, Loss: 0.490, Accuracy: 0.781\n",
      "Epoch 200/200, Loss: 0.534, Accuracy: 0.781\n"
     ]
    }
   ],
   "source": [
    "# Train the network \n",
    "num_epochs = 200\n",
    "for epoch in range(num_epochs):\n",
    "    for inputs,labels in train_loader:\n",
    "        inputs = inputs.float()\n",
    "        labels = labels.float()\n",
    "        # Feed Forward\n",
    "        # output = model(inputs) can use this syntax in Pytorch. It'll automatically considers forward() method with 1 argument(inputs)\n",
    "        output = model.forward(inputs)\n",
    "        # Loss Calculation\n",
    "        loss = criterion(output, labels)\n",
    "        # Clear the gradient buffer (we don't want to accumulate gradients)\n",
    "        optimizer.zero_grad()\n",
    "        # Backpropagation \n",
    "        loss.backward()\n",
    "        # Weight Update: w <-- w - lr * gradient\n",
    "        optimizer.step()\n",
    "        \n",
    "    #Accuracy\n",
    "    # Since we are using a sigmoid, we will need to perform some thresholding\n",
    "    output = (output>0.5).float()\n",
    "    # Accuracy: (output == labels).float().sum() / output.shape[0]\n",
    "    accuracy = (output == labels).float().mean()\n",
    "    # Print statistics \n",
    "    print(\"Epoch {}/{}, Loss: {:.3f}, Accuracy: {:.3f}\".format(epoch+1,num_epochs, loss, accuracy))"
   ]
  },
  {
   "cell_type": "code",
   "execution_count": null,
   "metadata": {},
   "outputs": [],
   "source": []
  }
 ],
 "metadata": {
  "kernelspec": {
   "display_name": "Python 3",
   "language": "python",
   "name": "python3"
  },
  "language_info": {
   "codemirror_mode": {
    "name": "ipython",
    "version": 3
   },
   "file_extension": ".py",
   "mimetype": "text/x-python",
   "name": "python",
   "nbconvert_exporter": "python",
   "pygments_lexer": "ipython3",
   "version": "3.8.3"
  }
 },
 "nbformat": 4,
 "nbformat_minor": 4
}
