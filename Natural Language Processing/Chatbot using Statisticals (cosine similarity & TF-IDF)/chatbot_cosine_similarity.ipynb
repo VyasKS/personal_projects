{
 "cells": [
  {
   "cell_type": "markdown",
   "metadata": {},
   "source": [
    "### Very basic chat bot from Amazon's electronics Q&A data\n",
    "\n",
    "For the purpose of the chatbot that we will create in this section, we will be using Amazon's Q&A data, which is a repository of questions and answers gathered from\n",
    "Amazon's website for various product categories ( http://jmcauley.ucsd.edu/data/amazon/qa/ ). Since the dataset is massive, we will only\n",
    "be using the Q&A data for electronic items. Being trained on Q&A data for electronic items, our chatbot could be deployed as automated Q&A support under the Electronic Items section. The corpus is in a JavaScript Object Notation (JSON)-like format. Each row of data is in a dictionary format with various key-value pairs. \n",
    "\n",
    "Now that we have familiarized ourselves with the corpus, let's design the architecture of the chatbot, as follows:\n",
    "\n",
    "    * Store all the questions from the corpus in a list\n",
    "    * Store all corresponding answers from the corpus in a list\n",
    "    * Vectorize and preprocess the question data\n",
    "    * Vectorize and preprocess the user's query\n",
    "    * Assess the most similar question to the user's query using cosine similarity\n",
    "    * Return the corresponding answer to the most similar question as a chat response"
   ]
  },
  {
   "cell_type": "code",
   "execution_count": 1,
   "metadata": {},
   "outputs": [],
   "source": [
    "import numpy as np\n",
    "from sklearn.feature_extraction.text import TfidfTransformer\n",
    "from sklearn.metrics.pairwise import cosine_similarity\n",
    "from sklearn.feature_extraction.text import CountVectorizer\n",
    "\n",
    "\n",
    "#loading questions and answers in separate lists\n",
    "import ast \n",
    "questions = []\n",
    "answers = [] \n",
    "with open('qa_Electronics.json','r') as f:\n",
    "    for line in f:\n",
    "        data = ast.literal_eval(line)\n",
    "        questions.append(data['question'].lower())\n",
    "        answers.append(data['answer'].lower())"
   ]
  },
  {
   "cell_type": "markdown",
   "metadata": {},
   "source": [
    "We will need to import the corpus ( qa_Electronics.json ) into Python. Dataset is under working directory for this notebook. We read the file as a text file and then use the ast library's literal_eval function to convert the rows from a string to a Python dictionary. We then iterate through each dictionary to extract and store questions and answers in separate lists. While importing, we also perform the preprocessing step of converting all characters to lowercase.\n",
    "\n",
    "#### Transformations\n",
    "Next, using the CountVectorizer module of the sklearn library, we convert the questions list into a sparse matrix and apply TF-IDF transformation."
   ]
  },
  {
   "cell_type": "code",
   "execution_count": 8,
   "metadata": {},
   "outputs": [],
   "source": [
    "vectorizer = CountVectorizer(stop_words='english')\n",
    "X_vec = vectorizer.fit_transform(questions)\n",
    "\n",
    "\"\"\" Transform data by applying term frequency inverse document frequency (TF-IDF) \"\"\"\n",
    "\n",
    "tfidf = TfidfTransformer() # by defualt norm 12 is applied\n",
    "X_tfidf = tfidf.fit_transform(X_vec)"
   ]
  },
  {
   "cell_type": "markdown",
   "metadata": {},
   "source": [
    "X_tfidf is the repository matrix that will be searched every time a new question is entered in the chatbot for the most similar question.\n",
    "\n",
    "To implement this, we create a function to calculate the angle between every row of the X_tfidf matrix and the new question vector. We use the sklearn library's cosine_similarity module to calculate the cosine between each row and the vector, and then convert the cosine into degrees.\n",
    "\n",
    "Finally, we search the row that has the maximum cosine (or the minimum angle) with the new question vector and return the corresponding answer to that question as the response. If the smallest angle between the question vector and every row of the matrix is greater than a threshold value, then we consider that question to be different enough to not warrant a response."
   ]
  },
  {
   "cell_type": "code",
   "execution_count": 9,
   "metadata": {},
   "outputs": [],
   "source": [
    "def conversation(im):\n",
    "    global tfidf, answers, X_tfidf\n",
    "    Y_vec = vectorizer.transform(im)\n",
    "    Y_tfidf = tfidf.fit_transform(Y_vec)\n",
    "    cos_sim = np.rad2deg(np.arccos(max(cosine_similarity(Y_tfidf, X_tfidf)[0])))\n",
    "    if cos_sim > 60 :\n",
    "        return \"sorry, I did not quite understand that\"\n",
    "    else:\n",
    "        return answers[np.argmax(cosine_similarity(Y_tfidf, X_tfidf)[0])]\n",
    "\n",
    "def main():\n",
    "    usr = input(\"Please enter your username: \")\n",
    "    print(\"support: Hi, welcome to Q&A support. How can I help you?\")\n",
    "    while True:\n",
    "        im = input(\"{}: \".format(usr))\n",
    "        if im.lower() == 'bye':\n",
    "            print(\"Q&A support: bye!\")\n",
    "            break\n",
    "        else:\n",
    "            print(\"Q&A support: \"+conversation([im]))"
   ]
  },
  {
   "cell_type": "code",
   "execution_count": 10,
   "metadata": {},
   "outputs": [
    {
     "name": "stdin",
     "output_type": "stream",
     "text": [
      "Please enter your username:  Sai Vyas\n"
     ]
    },
    {
     "name": "stdout",
     "output_type": "stream",
     "text": [
      "support: Hi, welcome to Q&A support. How can I help you?\n"
     ]
    },
    {
     "name": "stdin",
     "output_type": "stream",
     "text": [
      "Sai Vyas:  What is the warranty of my phone\n"
     ]
    },
    {
     "name": "stdout",
     "output_type": "stream",
     "text": [
      "Q&A support: the guarantee is one month. (the phone must be free of shocks or manipulated its hardware) the costs paid by the buyer.\n"
     ]
    },
    {
     "name": "stdin",
     "output_type": "stream",
     "text": [
      "Sai Vyas:  Does it have internal memory\n"
     ]
    },
    {
     "name": "stdout",
     "output_type": "stream",
     "text": [
      "Q&A support: no, that's the only thing i wish was different. other than that it's great. definitely worth every penny.\n"
     ]
    },
    {
     "name": "stdin",
     "output_type": "stream",
     "text": [
      "Sai Vyas:  Is it an Iphone?\n"
     ]
    },
    {
     "name": "stdout",
     "output_type": "stream",
     "text": [
      "Q&A support: it does not plug into an iphone. i love this plantronic headset, quality wonderful. i bought an adapter that fit the iphone but the sound quality was bad so i now use the white ear bud thing that came with the iphone. i have small ears so those things hurt when i use them for a long time. i don't recommend the plantronics headset with an iphone.\n"
     ]
    },
    {
     "name": "stdin",
     "output_type": "stream",
     "text": [
      "Sai Vyas:  Does my phone have long battery life?\n"
     ]
    },
    {
     "name": "stdout",
     "output_type": "stream",
     "text": [
      "Q&A support: i've used the hp laptop with out being plugged in for at least 8 hours. had to go out. so i turned it off after that. came home and turned bavk on. there was atleast half battery left.hope this info helps you....&#128540;\n"
     ]
    },
    {
     "name": "stdin",
     "output_type": "stream",
     "text": [
      "Sai Vyas:  does it have bluetooth?\n"
     ]
    },
    {
     "name": "stdout",
     "output_type": "stream",
     "text": [
      "Q&A support: no\n"
     ]
    },
    {
     "name": "stdin",
     "output_type": "stream",
     "text": [
      "Sai Vyas:  Theft coverage?\n"
     ]
    },
    {
     "name": "stdout",
     "output_type": "stream",
     "text": [
      "Q&A support: the coverage is for two years protection additional to the one year manufacturer's warranty to repair your broken item. the additional coverage protects your item to be fixed if you break it in an accident, i.e. drop it, spill water on it.\n"
     ]
    },
    {
     "name": "stdin",
     "output_type": "stream",
     "text": [
      "Sai Vyas:  Can I get a replacement if the screen is broken?\n"
     ]
    },
    {
     "name": "stdout",
     "output_type": "stream",
     "text": [
      "Q&A support: i went back to the seller and they were awesome at helping out.\n"
     ]
    },
    {
     "name": "stdin",
     "output_type": "stream",
     "text": [
      "Sai Vyas:  Fantastic, thank you\n"
     ]
    },
    {
     "name": "stdout",
     "output_type": "stream",
     "text": [
      "Q&A support: hi. frame china, optics swiss\n"
     ]
    },
    {
     "name": "stdin",
     "output_type": "stream",
     "text": [
      "Sai Vyas:  Alright, bye!\n"
     ]
    },
    {
     "name": "stdout",
     "output_type": "stream",
     "text": [
      "Q&A support: i would have to agree with samuel because most people can just use their iphone or droid phones to shoot great video for example. we have a droid x that has a generous 4.5\" screen and takes hd video & sound just fine for the everyday user. videos can now be uploaded directly to youtube without having to convert them either (had to do this a year ago for quality)! i think little pocket-cams will become obsolete by 2012 (along with the world!!! lol).\n"
     ]
    },
    {
     "name": "stdin",
     "output_type": "stream",
     "text": [
      "Sai Vyas:  Bye!\n"
     ]
    },
    {
     "name": "stdout",
     "output_type": "stream",
     "text": [
      "Q&A support: i would have to agree with samuel because most people can just use their iphone or droid phones to shoot great video for example. we have a droid x that has a generous 4.5\" screen and takes hd video & sound just fine for the everyday user. videos can now be uploaded directly to youtube without having to convert them either (had to do this a year ago for quality)! i think little pocket-cams will become obsolete by 2012 (along with the world!!! lol).\n"
     ]
    },
    {
     "name": "stdin",
     "output_type": "stream",
     "text": [
      "Sai Vyas:  bye\n"
     ]
    },
    {
     "name": "stdout",
     "output_type": "stream",
     "text": [
      "Q&A support: bye!\n"
     ]
    }
   ],
   "source": [
    "main()"
   ]
  },
  {
   "cell_type": "markdown",
   "metadata": {},
   "source": [
    "Basically, this chat bot returns answer statements and is on-par with accuracy.\n",
    "\n",
    "Cosine similarity is the key here and so far, it performs decent enough, although it has some errors when not recognizing the question properly. This problem can be resolved with large corpus of data and rules that are fed in for usual common talk phrases in daily life of human communication.\n",
    "\n",
    "Thanks for your time in reading this till here!"
   ]
  }
 ],
 "metadata": {
  "kernelspec": {
   "display_name": "Python 3",
   "language": "python",
   "name": "python3"
  },
  "language_info": {
   "codemirror_mode": {
    "name": "ipython",
    "version": 3
   },
   "file_extension": ".py",
   "mimetype": "text/x-python",
   "name": "python",
   "nbconvert_exporter": "python",
   "pygments_lexer": "ipython3",
   "version": "3.7.6"
  }
 },
 "nbformat": 4,
 "nbformat_minor": 4
}
