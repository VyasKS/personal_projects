{
 "cells": [
  {
   "cell_type": "markdown",
   "metadata": {},
   "source": [
    "### Insights\n",
    "   Following are the insights from this classification project:\n",
    "\n",
    "• The dataset has all the features except ('Points' & 'Price') to be as categorical 'object' data types.\n",
    "\n",
    "• It is imperative that there's a lot of valuable information imbibed in the 'review_description' column as it captures the essence of wine ingredients, quality, origin & many other   features of a particular wine that is produced all around the globe. This 'review_description' feature is invaluable when used with techniques such as Natural Language Processing     (NLP) to decipher the relationship between the character embeddings.\n",
    "\n",
    "• There are few most expensive wines that come from France & USA & the costliest being from France.\n",
    "\n",
    "• Dropping just 0.59% of the data from the 'Price' column brings its normality back. There are few outliers that oppose this effect.\n",
    "\n",
    "• Most good wines come from England. England provided information only on best wines & it is among the top wine consuming nations.\n",
    "\n",
    "• Wines in Switzerland are the most expensive ones as cost of living is usually high and they have a profound effect on the dataset.\n",
    "\n",
    "### Summary\n",
    "In this notebook, a predictive model for predicting the wine “variety” using multiclass classification by an open source categorical gradient boosting library called CatBoost. Model is CatBoost Multiclassifier with learning rate as 1 and for 50 iterations. Features extracted are ('country', 'designation', 'points', 'price', 'province', 'region_1', 'region_2', 'winery'). Target is 'variety'. We splitted the training dataset into train & validation sets for model evaluation and found the score on training set to be '0.25'.\n",
    "\n",
    "\n",
    "### Learnings\n",
    "After some research, it is quite imperative that we could use more advanced machine learning techniques especially in the text processing area such as NLP & deep neural network architechtures such as LSTM( Long Short Term Memory ) to combine the speed & memory advantage to predict better solutions.\n",
    "\n",
    "#### The Data Description:\n",
    "    • user_name - user_name of the reviewer\n",
    "    • country -The country that the wine is from.\n",
    "    • review_title - The title of the wine review, which often contains the vintage.\n",
    "    • review_description - A verbose review of the wine.\n",
    "    • designation - The vineyard within the winery where the grapes that made the wine are from.\n",
    "    • points - ratings given by the user. The ratings are between 0 -100.\n",
    "    • price - The cost for a bottle of the wine\n",
    "    • province - The province or state that the wine is from.\n",
    "    • region_1 - The wine-growing area in a province or state (ie Napa).\n",
    "    • region_2 - Sometimes there are more specific regions specified within a wine-growing area (ie Rutherford inside the Napa Valley),but this value can sometimes be blank.\n",
    "    • winery - The winery that made the wine\n",
    "    • variety - The type of grapes used to make the wine. Dependent variable for task 2 of the assignment"
   ]
  },
  {
   "cell_type": "code",
   "execution_count": 1,
   "metadata": {},
   "outputs": [
    {
     "name": "stderr",
     "output_type": "stream",
     "text": [
      "\n",
      "Bad key \"text.kerning_factor\" on line 4 in\n",
      "/home/sai_vyas/anaconda3/lib/python3.7/site-packages/matplotlib/mpl-data/stylelib/_classic_test_patch.mplstyle.\n",
      "You probably need to get an updated matplotlibrc file from\n",
      "https://github.com/matplotlib/matplotlib/blob/v3.1.3/matplotlibrc.template\n",
      "or from the matplotlib source distribution\n",
      "/home/sai_vyas/anaconda3/lib/python3.7/site-packages/statsmodels/tools/_testing.py:19: FutureWarning: pandas.util.testing is deprecated. Use the functions in the public API at pandas.testing instead.\n",
      "  import pandas.util.testing as tm\n"
     ]
    }
   ],
   "source": [
    "import numpy as np\n",
    "import pandas as pd\n",
    "import matplotlib.pyplot as plt\n",
    "%matplotlib inline\n",
    "import seaborn as sns"
   ]
  },
  {
   "cell_type": "code",
   "execution_count": 2,
   "metadata": {},
   "outputs": [],
   "source": [
    "train = pd.read_csv('/home/sai_vyas/Desktop/KnightMLData/train.csv')\n",
    "test = pd.read_csv('/home/sai_vyas/Desktop/KnightMLData/test.csv')"
   ]
  },
  {
   "cell_type": "code",
   "execution_count": 3,
   "metadata": {},
   "outputs": [
    {
     "data": {
      "text/html": [
       "<div>\n",
       "<style scoped>\n",
       "    .dataframe tbody tr th:only-of-type {\n",
       "        vertical-align: middle;\n",
       "    }\n",
       "\n",
       "    .dataframe tbody tr th {\n",
       "        vertical-align: top;\n",
       "    }\n",
       "\n",
       "    .dataframe thead th {\n",
       "        text-align: right;\n",
       "    }\n",
       "</style>\n",
       "<table border=\"1\" class=\"dataframe\">\n",
       "  <thead>\n",
       "    <tr style=\"text-align: right;\">\n",
       "      <th></th>\n",
       "      <th>user_name</th>\n",
       "      <th>country</th>\n",
       "      <th>review_title</th>\n",
       "      <th>review_description</th>\n",
       "      <th>designation</th>\n",
       "      <th>points</th>\n",
       "      <th>price</th>\n",
       "      <th>province</th>\n",
       "      <th>region_1</th>\n",
       "      <th>region_2</th>\n",
       "      <th>winery</th>\n",
       "    </tr>\n",
       "  </thead>\n",
       "  <tbody>\n",
       "    <tr>\n",
       "      <th>0</th>\n",
       "      <td>@paulgwine</td>\n",
       "      <td>US</td>\n",
       "      <td>Boedecker Cellars 2011 Athena Pinot Noir (Will...</td>\n",
       "      <td>Nicely differentiated from the companion Stewa...</td>\n",
       "      <td>Athena</td>\n",
       "      <td>88</td>\n",
       "      <td>35.0</td>\n",
       "      <td>Oregon</td>\n",
       "      <td>Willamette Valley</td>\n",
       "      <td>Willamette Valley</td>\n",
       "      <td>Boedecker Cellars</td>\n",
       "    </tr>\n",
       "    <tr>\n",
       "      <th>1</th>\n",
       "      <td>@wineschach</td>\n",
       "      <td>Argentina</td>\n",
       "      <td>Mendoza Vineyards 2012 Gran Reserva by Richard...</td>\n",
       "      <td>Charred, smoky, herbal aromas of blackberry tr...</td>\n",
       "      <td>Gran Reserva by Richard Bonvin</td>\n",
       "      <td>90</td>\n",
       "      <td>60.0</td>\n",
       "      <td>Mendoza Province</td>\n",
       "      <td>Mendoza</td>\n",
       "      <td>NaN</td>\n",
       "      <td>Mendoza Vineyards</td>\n",
       "    </tr>\n",
       "    <tr>\n",
       "      <th>2</th>\n",
       "      <td>@vboone</td>\n",
       "      <td>US</td>\n",
       "      <td>Prime 2013 Chardonnay (Coombsville)</td>\n",
       "      <td>Slightly sour and funky in earth, this is a re...</td>\n",
       "      <td>NaN</td>\n",
       "      <td>87</td>\n",
       "      <td>38.0</td>\n",
       "      <td>California</td>\n",
       "      <td>Coombsville</td>\n",
       "      <td>Napa</td>\n",
       "      <td>Prime</td>\n",
       "    </tr>\n",
       "    <tr>\n",
       "      <th>3</th>\n",
       "      <td>@wineschach</td>\n",
       "      <td>Argentina</td>\n",
       "      <td>Bodega Cuarto Dominio 2012 Chento Vineyard Sel...</td>\n",
       "      <td>This concentrated, midnight-black Malbec deliv...</td>\n",
       "      <td>Chento Vineyard Selection</td>\n",
       "      <td>91</td>\n",
       "      <td>20.0</td>\n",
       "      <td>Mendoza Province</td>\n",
       "      <td>Mendoza</td>\n",
       "      <td>NaN</td>\n",
       "      <td>Bodega Cuarto Dominio</td>\n",
       "    </tr>\n",
       "    <tr>\n",
       "      <th>4</th>\n",
       "      <td>@kerinokeefe</td>\n",
       "      <td>Italy</td>\n",
       "      <td>SassodiSole 2012  Brunello di Montalcino</td>\n",
       "      <td>Earthy aromas suggesting grilled porcini, leat...</td>\n",
       "      <td>NaN</td>\n",
       "      <td>90</td>\n",
       "      <td>49.0</td>\n",
       "      <td>Tuscany</td>\n",
       "      <td>Brunello di Montalcino</td>\n",
       "      <td>NaN</td>\n",
       "      <td>SassodiSole</td>\n",
       "    </tr>\n",
       "  </tbody>\n",
       "</table>\n",
       "</div>"
      ],
      "text/plain": [
       "      user_name    country                                       review_title  \\\n",
       "0   @paulgwine          US  Boedecker Cellars 2011 Athena Pinot Noir (Will...   \n",
       "1   @wineschach  Argentina  Mendoza Vineyards 2012 Gran Reserva by Richard...   \n",
       "2       @vboone         US                Prime 2013 Chardonnay (Coombsville)   \n",
       "3   @wineschach  Argentina  Bodega Cuarto Dominio 2012 Chento Vineyard Sel...   \n",
       "4  @kerinokeefe      Italy           SassodiSole 2012  Brunello di Montalcino   \n",
       "\n",
       "                                  review_description  \\\n",
       "0  Nicely differentiated from the companion Stewa...   \n",
       "1  Charred, smoky, herbal aromas of blackberry tr...   \n",
       "2  Slightly sour and funky in earth, this is a re...   \n",
       "3  This concentrated, midnight-black Malbec deliv...   \n",
       "4  Earthy aromas suggesting grilled porcini, leat...   \n",
       "\n",
       "                      designation  points  price          province  \\\n",
       "0                          Athena      88   35.0            Oregon   \n",
       "1  Gran Reserva by Richard Bonvin      90   60.0  Mendoza Province   \n",
       "2                             NaN      87   38.0        California   \n",
       "3       Chento Vineyard Selection      91   20.0  Mendoza Province   \n",
       "4                             NaN      90   49.0           Tuscany   \n",
       "\n",
       "                 region_1           region_2                 winery  \n",
       "0       Willamette Valley  Willamette Valley      Boedecker Cellars  \n",
       "1                 Mendoza                NaN      Mendoza Vineyards  \n",
       "2             Coombsville               Napa                  Prime  \n",
       "3                 Mendoza                NaN  Bodega Cuarto Dominio  \n",
       "4  Brunello di Montalcino                NaN            SassodiSole  "
      ]
     },
     "execution_count": 3,
     "metadata": {},
     "output_type": "execute_result"
    }
   ],
   "source": [
    "test.head()"
   ]
  },
  {
   "cell_type": "code",
   "execution_count": 4,
   "metadata": {},
   "outputs": [
    {
     "data": {
      "text/html": [
       "<div>\n",
       "<style scoped>\n",
       "    .dataframe tbody tr th:only-of-type {\n",
       "        vertical-align: middle;\n",
       "    }\n",
       "\n",
       "    .dataframe tbody tr th {\n",
       "        vertical-align: top;\n",
       "    }\n",
       "\n",
       "    .dataframe thead th {\n",
       "        text-align: right;\n",
       "    }\n",
       "</style>\n",
       "<table border=\"1\" class=\"dataframe\">\n",
       "  <thead>\n",
       "    <tr style=\"text-align: right;\">\n",
       "      <th></th>\n",
       "      <th>user_name</th>\n",
       "      <th>country</th>\n",
       "      <th>review_title</th>\n",
       "      <th>review_description</th>\n",
       "      <th>designation</th>\n",
       "      <th>points</th>\n",
       "      <th>price</th>\n",
       "      <th>province</th>\n",
       "      <th>region_1</th>\n",
       "      <th>region_2</th>\n",
       "      <th>winery</th>\n",
       "      <th>variety</th>\n",
       "    </tr>\n",
       "  </thead>\n",
       "  <tbody>\n",
       "    <tr>\n",
       "      <th>0</th>\n",
       "      <td>NaN</td>\n",
       "      <td>Australia</td>\n",
       "      <td>Andrew Peace 2007 Peace Family Vineyard Chardo...</td>\n",
       "      <td>Classic Chardonnay aromas of apple, pear and h...</td>\n",
       "      <td>Peace Family Vineyard</td>\n",
       "      <td>83</td>\n",
       "      <td>10.0</td>\n",
       "      <td>Australia Other</td>\n",
       "      <td>South Eastern Australia</td>\n",
       "      <td>NaN</td>\n",
       "      <td>Andrew Peace</td>\n",
       "      <td>Chardonnay</td>\n",
       "    </tr>\n",
       "    <tr>\n",
       "      <th>1</th>\n",
       "      <td>@wawinereport</td>\n",
       "      <td>US</td>\n",
       "      <td>North by Northwest 2014 Red (Columbia Valley (...</td>\n",
       "      <td>This wine is near equal parts Syrah and Merlot...</td>\n",
       "      <td>NaN</td>\n",
       "      <td>89</td>\n",
       "      <td>15.0</td>\n",
       "      <td>Washington</td>\n",
       "      <td>Columbia Valley (WA)</td>\n",
       "      <td>Columbia Valley</td>\n",
       "      <td>North by Northwest</td>\n",
       "      <td>Red Blend</td>\n",
       "    </tr>\n",
       "    <tr>\n",
       "      <th>2</th>\n",
       "      <td>NaN</td>\n",
       "      <td>Italy</td>\n",
       "      <td>Renato Ratti 2007 Conca  (Barolo)</td>\n",
       "      <td>Barolo Conca opens with inky dark concentratio...</td>\n",
       "      <td>Conca</td>\n",
       "      <td>94</td>\n",
       "      <td>80.0</td>\n",
       "      <td>Piedmont</td>\n",
       "      <td>Barolo</td>\n",
       "      <td>NaN</td>\n",
       "      <td>Renato Ratti</td>\n",
       "      <td>Nebbiolo</td>\n",
       "    </tr>\n",
       "    <tr>\n",
       "      <th>3</th>\n",
       "      <td>@vossroger</td>\n",
       "      <td>France</td>\n",
       "      <td>Domaine l'Ancienne Cure 2010 L'Abbaye White (B...</td>\n",
       "      <td>It's impressive what a small addition of Sauvi...</td>\n",
       "      <td>L'Abbaye</td>\n",
       "      <td>87</td>\n",
       "      <td>22.0</td>\n",
       "      <td>Southwest France</td>\n",
       "      <td>Bergerac Sec</td>\n",
       "      <td>NaN</td>\n",
       "      <td>Domaine l'Ancienne Cure</td>\n",
       "      <td>Bordeaux-style White Blend</td>\n",
       "    </tr>\n",
       "    <tr>\n",
       "      <th>4</th>\n",
       "      <td>@vossroger</td>\n",
       "      <td>France</td>\n",
       "      <td>Château du Cèdre 2012 Le Cèdre Vintage Malbec ...</td>\n",
       "      <td>This ripe, sweet wine is rich and full of drie...</td>\n",
       "      <td>Le Cèdre Vintage</td>\n",
       "      <td>88</td>\n",
       "      <td>33.0</td>\n",
       "      <td>France Other</td>\n",
       "      <td>Vin de Liqueur</td>\n",
       "      <td>NaN</td>\n",
       "      <td>Château du Cèdre</td>\n",
       "      <td>Malbec</td>\n",
       "    </tr>\n",
       "  </tbody>\n",
       "</table>\n",
       "</div>"
      ],
      "text/plain": [
       "       user_name    country  \\\n",
       "0            NaN  Australia   \n",
       "1  @wawinereport         US   \n",
       "2            NaN      Italy   \n",
       "3     @vossroger     France   \n",
       "4     @vossroger     France   \n",
       "\n",
       "                                        review_title  \\\n",
       "0  Andrew Peace 2007 Peace Family Vineyard Chardo...   \n",
       "1  North by Northwest 2014 Red (Columbia Valley (...   \n",
       "2                  Renato Ratti 2007 Conca  (Barolo)   \n",
       "3  Domaine l'Ancienne Cure 2010 L'Abbaye White (B...   \n",
       "4  Château du Cèdre 2012 Le Cèdre Vintage Malbec ...   \n",
       "\n",
       "                                  review_description            designation  \\\n",
       "0  Classic Chardonnay aromas of apple, pear and h...  Peace Family Vineyard   \n",
       "1  This wine is near equal parts Syrah and Merlot...                    NaN   \n",
       "2  Barolo Conca opens with inky dark concentratio...                  Conca   \n",
       "3  It's impressive what a small addition of Sauvi...               L'Abbaye   \n",
       "4  This ripe, sweet wine is rich and full of drie...       Le Cèdre Vintage   \n",
       "\n",
       "   points  price          province                 region_1         region_2  \\\n",
       "0      83   10.0   Australia Other  South Eastern Australia              NaN   \n",
       "1      89   15.0        Washington     Columbia Valley (WA)  Columbia Valley   \n",
       "2      94   80.0          Piedmont                   Barolo              NaN   \n",
       "3      87   22.0  Southwest France             Bergerac Sec              NaN   \n",
       "4      88   33.0      France Other           Vin de Liqueur              NaN   \n",
       "\n",
       "                    winery                     variety  \n",
       "0             Andrew Peace                  Chardonnay  \n",
       "1       North by Northwest                   Red Blend  \n",
       "2             Renato Ratti                    Nebbiolo  \n",
       "3  Domaine l'Ancienne Cure  Bordeaux-style White Blend  \n",
       "4         Château du Cèdre                      Malbec  "
      ]
     },
     "execution_count": 4,
     "metadata": {},
     "output_type": "execute_result"
    }
   ],
   "source": [
    "train.head()"
   ]
  },
  {
   "cell_type": "code",
   "execution_count": 5,
   "metadata": {},
   "outputs": [
    {
     "data": {
      "text/plain": [
       "20.0    4206\n",
       "15.0    3627\n",
       "25.0    3596\n",
       "30.0    3127\n",
       "18.0    2886\n",
       "Name: price, dtype: int64"
      ]
     },
     "execution_count": 5,
     "metadata": {},
     "output_type": "execute_result"
    }
   ],
   "source": [
    "train['price'].value_counts().head()"
   ]
  },
  {
   "cell_type": "markdown",
   "metadata": {},
   "source": [
    "Dropping unwanted columns. Out of these 'review_description' is quite useful if we are using NLP methods for prediction. That column itself is enough to predict sometimes given the fact, that it has all the information needed for a wine variety classification."
   ]
  },
  {
   "cell_type": "code",
   "execution_count": 6,
   "metadata": {},
   "outputs": [
    {
     "data": {
      "text/plain": [
       "(5016, 12)"
      ]
     },
     "execution_count": 6,
     "metadata": {},
     "output_type": "execute_result"
    }
   ],
   "source": [
    "train[train.duplicated(['review_description','review_title'])].shape"
   ]
  },
  {
   "cell_type": "markdown",
   "metadata": {},
   "source": [
    "Deleting the duplicates"
   ]
  },
  {
   "cell_type": "code",
   "execution_count": 7,
   "metadata": {},
   "outputs": [
    {
     "data": {
      "text/html": [
       "<div>\n",
       "<style scoped>\n",
       "    .dataframe tbody tr th:only-of-type {\n",
       "        vertical-align: middle;\n",
       "    }\n",
       "\n",
       "    .dataframe tbody tr th {\n",
       "        vertical-align: top;\n",
       "    }\n",
       "\n",
       "    .dataframe thead th {\n",
       "        text-align: right;\n",
       "    }\n",
       "</style>\n",
       "<table border=\"1\" class=\"dataframe\">\n",
       "  <thead>\n",
       "    <tr style=\"text-align: right;\">\n",
       "      <th></th>\n",
       "      <th>user_name</th>\n",
       "      <th>country</th>\n",
       "      <th>review_title</th>\n",
       "      <th>review_description</th>\n",
       "      <th>designation</th>\n",
       "      <th>points</th>\n",
       "      <th>price</th>\n",
       "      <th>province</th>\n",
       "      <th>region_1</th>\n",
       "      <th>region_2</th>\n",
       "      <th>winery</th>\n",
       "      <th>variety</th>\n",
       "    </tr>\n",
       "  </thead>\n",
       "  <tbody>\n",
       "    <tr>\n",
       "      <th>0</th>\n",
       "      <td>NaN</td>\n",
       "      <td>Australia</td>\n",
       "      <td>Andrew Peace 2007 Peace Family Vineyard Chardo...</td>\n",
       "      <td>Classic Chardonnay aromas of apple, pear and h...</td>\n",
       "      <td>Peace Family Vineyard</td>\n",
       "      <td>83</td>\n",
       "      <td>10.0</td>\n",
       "      <td>Australia Other</td>\n",
       "      <td>South Eastern Australia</td>\n",
       "      <td>NaN</td>\n",
       "      <td>Andrew Peace</td>\n",
       "      <td>Chardonnay</td>\n",
       "    </tr>\n",
       "    <tr>\n",
       "      <th>1</th>\n",
       "      <td>@wawinereport</td>\n",
       "      <td>US</td>\n",
       "      <td>North by Northwest 2014 Red (Columbia Valley (...</td>\n",
       "      <td>This wine is near equal parts Syrah and Merlot...</td>\n",
       "      <td>NaN</td>\n",
       "      <td>89</td>\n",
       "      <td>15.0</td>\n",
       "      <td>Washington</td>\n",
       "      <td>Columbia Valley (WA)</td>\n",
       "      <td>Columbia Valley</td>\n",
       "      <td>North by Northwest</td>\n",
       "      <td>Red Blend</td>\n",
       "    </tr>\n",
       "    <tr>\n",
       "      <th>2</th>\n",
       "      <td>NaN</td>\n",
       "      <td>Italy</td>\n",
       "      <td>Renato Ratti 2007 Conca  (Barolo)</td>\n",
       "      <td>Barolo Conca opens with inky dark concentratio...</td>\n",
       "      <td>Conca</td>\n",
       "      <td>94</td>\n",
       "      <td>80.0</td>\n",
       "      <td>Piedmont</td>\n",
       "      <td>Barolo</td>\n",
       "      <td>NaN</td>\n",
       "      <td>Renato Ratti</td>\n",
       "      <td>Nebbiolo</td>\n",
       "    </tr>\n",
       "    <tr>\n",
       "      <th>3</th>\n",
       "      <td>@vossroger</td>\n",
       "      <td>France</td>\n",
       "      <td>Domaine l'Ancienne Cure 2010 L'Abbaye White (B...</td>\n",
       "      <td>It's impressive what a small addition of Sauvi...</td>\n",
       "      <td>L'Abbaye</td>\n",
       "      <td>87</td>\n",
       "      <td>22.0</td>\n",
       "      <td>Southwest France</td>\n",
       "      <td>Bergerac Sec</td>\n",
       "      <td>NaN</td>\n",
       "      <td>Domaine l'Ancienne Cure</td>\n",
       "      <td>Bordeaux-style White Blend</td>\n",
       "    </tr>\n",
       "    <tr>\n",
       "      <th>4</th>\n",
       "      <td>@vossroger</td>\n",
       "      <td>France</td>\n",
       "      <td>Château du Cèdre 2012 Le Cèdre Vintage Malbec ...</td>\n",
       "      <td>This ripe, sweet wine is rich and full of drie...</td>\n",
       "      <td>Le Cèdre Vintage</td>\n",
       "      <td>88</td>\n",
       "      <td>33.0</td>\n",
       "      <td>France Other</td>\n",
       "      <td>Vin de Liqueur</td>\n",
       "      <td>NaN</td>\n",
       "      <td>Château du Cèdre</td>\n",
       "      <td>Malbec</td>\n",
       "    </tr>\n",
       "  </tbody>\n",
       "</table>\n",
       "</div>"
      ],
      "text/plain": [
       "       user_name    country  \\\n",
       "0            NaN  Australia   \n",
       "1  @wawinereport         US   \n",
       "2            NaN      Italy   \n",
       "3     @vossroger     France   \n",
       "4     @vossroger     France   \n",
       "\n",
       "                                        review_title  \\\n",
       "0  Andrew Peace 2007 Peace Family Vineyard Chardo...   \n",
       "1  North by Northwest 2014 Red (Columbia Valley (...   \n",
       "2                  Renato Ratti 2007 Conca  (Barolo)   \n",
       "3  Domaine l'Ancienne Cure 2010 L'Abbaye White (B...   \n",
       "4  Château du Cèdre 2012 Le Cèdre Vintage Malbec ...   \n",
       "\n",
       "                                  review_description            designation  \\\n",
       "0  Classic Chardonnay aromas of apple, pear and h...  Peace Family Vineyard   \n",
       "1  This wine is near equal parts Syrah and Merlot...                    NaN   \n",
       "2  Barolo Conca opens with inky dark concentratio...                  Conca   \n",
       "3  It's impressive what a small addition of Sauvi...               L'Abbaye   \n",
       "4  This ripe, sweet wine is rich and full of drie...       Le Cèdre Vintage   \n",
       "\n",
       "   points  price          province                 region_1         region_2  \\\n",
       "0      83   10.0   Australia Other  South Eastern Australia              NaN   \n",
       "1      89   15.0        Washington     Columbia Valley (WA)  Columbia Valley   \n",
       "2      94   80.0          Piedmont                   Barolo              NaN   \n",
       "3      87   22.0  Southwest France             Bergerac Sec              NaN   \n",
       "4      88   33.0      France Other           Vin de Liqueur              NaN   \n",
       "\n",
       "                    winery                     variety  \n",
       "0             Andrew Peace                  Chardonnay  \n",
       "1       North by Northwest                   Red Blend  \n",
       "2             Renato Ratti                    Nebbiolo  \n",
       "3  Domaine l'Ancienne Cure  Bordeaux-style White Blend  \n",
       "4         Château du Cèdre                      Malbec  "
      ]
     },
     "execution_count": 7,
     "metadata": {},
     "output_type": "execute_result"
    }
   ],
   "source": [
    "train = train.drop_duplicates(['review_description','review_title'])\n",
    "train.reset_index(drop=True,inplace=True)\n",
    "train.head()"
   ]
  },
  {
   "cell_type": "code",
   "execution_count": 8,
   "metadata": {},
   "outputs": [
    {
     "data": {
      "text/plain": [
       "(314, 11)"
      ]
     },
     "execution_count": 8,
     "metadata": {},
     "output_type": "execute_result"
    }
   ],
   "source": [
    "test[test.duplicated(['review_description','review_title'])].shape"
   ]
  },
  {
   "cell_type": "code",
   "execution_count": 9,
   "metadata": {},
   "outputs": [
    {
     "data": {
      "text/html": [
       "<div>\n",
       "<style scoped>\n",
       "    .dataframe tbody tr th:only-of-type {\n",
       "        vertical-align: middle;\n",
       "    }\n",
       "\n",
       "    .dataframe tbody tr th {\n",
       "        vertical-align: top;\n",
       "    }\n",
       "\n",
       "    .dataframe thead th {\n",
       "        text-align: right;\n",
       "    }\n",
       "</style>\n",
       "<table border=\"1\" class=\"dataframe\">\n",
       "  <thead>\n",
       "    <tr style=\"text-align: right;\">\n",
       "      <th></th>\n",
       "      <th>user_name</th>\n",
       "      <th>country</th>\n",
       "      <th>review_title</th>\n",
       "      <th>review_description</th>\n",
       "      <th>designation</th>\n",
       "      <th>points</th>\n",
       "      <th>price</th>\n",
       "      <th>province</th>\n",
       "      <th>region_1</th>\n",
       "      <th>region_2</th>\n",
       "      <th>winery</th>\n",
       "    </tr>\n",
       "  </thead>\n",
       "  <tbody>\n",
       "    <tr>\n",
       "      <th>0</th>\n",
       "      <td>@paulgwine</td>\n",
       "      <td>US</td>\n",
       "      <td>Boedecker Cellars 2011 Athena Pinot Noir (Will...</td>\n",
       "      <td>Nicely differentiated from the companion Stewa...</td>\n",
       "      <td>Athena</td>\n",
       "      <td>88</td>\n",
       "      <td>35.0</td>\n",
       "      <td>Oregon</td>\n",
       "      <td>Willamette Valley</td>\n",
       "      <td>Willamette Valley</td>\n",
       "      <td>Boedecker Cellars</td>\n",
       "    </tr>\n",
       "    <tr>\n",
       "      <th>1</th>\n",
       "      <td>@wineschach</td>\n",
       "      <td>Argentina</td>\n",
       "      <td>Mendoza Vineyards 2012 Gran Reserva by Richard...</td>\n",
       "      <td>Charred, smoky, herbal aromas of blackberry tr...</td>\n",
       "      <td>Gran Reserva by Richard Bonvin</td>\n",
       "      <td>90</td>\n",
       "      <td>60.0</td>\n",
       "      <td>Mendoza Province</td>\n",
       "      <td>Mendoza</td>\n",
       "      <td>NaN</td>\n",
       "      <td>Mendoza Vineyards</td>\n",
       "    </tr>\n",
       "    <tr>\n",
       "      <th>2</th>\n",
       "      <td>@vboone</td>\n",
       "      <td>US</td>\n",
       "      <td>Prime 2013 Chardonnay (Coombsville)</td>\n",
       "      <td>Slightly sour and funky in earth, this is a re...</td>\n",
       "      <td>NaN</td>\n",
       "      <td>87</td>\n",
       "      <td>38.0</td>\n",
       "      <td>California</td>\n",
       "      <td>Coombsville</td>\n",
       "      <td>Napa</td>\n",
       "      <td>Prime</td>\n",
       "    </tr>\n",
       "    <tr>\n",
       "      <th>3</th>\n",
       "      <td>@wineschach</td>\n",
       "      <td>Argentina</td>\n",
       "      <td>Bodega Cuarto Dominio 2012 Chento Vineyard Sel...</td>\n",
       "      <td>This concentrated, midnight-black Malbec deliv...</td>\n",
       "      <td>Chento Vineyard Selection</td>\n",
       "      <td>91</td>\n",
       "      <td>20.0</td>\n",
       "      <td>Mendoza Province</td>\n",
       "      <td>Mendoza</td>\n",
       "      <td>NaN</td>\n",
       "      <td>Bodega Cuarto Dominio</td>\n",
       "    </tr>\n",
       "    <tr>\n",
       "      <th>4</th>\n",
       "      <td>@kerinokeefe</td>\n",
       "      <td>Italy</td>\n",
       "      <td>SassodiSole 2012  Brunello di Montalcino</td>\n",
       "      <td>Earthy aromas suggesting grilled porcini, leat...</td>\n",
       "      <td>NaN</td>\n",
       "      <td>90</td>\n",
       "      <td>49.0</td>\n",
       "      <td>Tuscany</td>\n",
       "      <td>Brunello di Montalcino</td>\n",
       "      <td>NaN</td>\n",
       "      <td>SassodiSole</td>\n",
       "    </tr>\n",
       "  </tbody>\n",
       "</table>\n",
       "</div>"
      ],
      "text/plain": [
       "      user_name    country                                       review_title  \\\n",
       "0   @paulgwine          US  Boedecker Cellars 2011 Athena Pinot Noir (Will...   \n",
       "1   @wineschach  Argentina  Mendoza Vineyards 2012 Gran Reserva by Richard...   \n",
       "2       @vboone         US                Prime 2013 Chardonnay (Coombsville)   \n",
       "3   @wineschach  Argentina  Bodega Cuarto Dominio 2012 Chento Vineyard Sel...   \n",
       "4  @kerinokeefe      Italy           SassodiSole 2012  Brunello di Montalcino   \n",
       "\n",
       "                                  review_description  \\\n",
       "0  Nicely differentiated from the companion Stewa...   \n",
       "1  Charred, smoky, herbal aromas of blackberry tr...   \n",
       "2  Slightly sour and funky in earth, this is a re...   \n",
       "3  This concentrated, midnight-black Malbec deliv...   \n",
       "4  Earthy aromas suggesting grilled porcini, leat...   \n",
       "\n",
       "                      designation  points  price          province  \\\n",
       "0                          Athena      88   35.0            Oregon   \n",
       "1  Gran Reserva by Richard Bonvin      90   60.0  Mendoza Province   \n",
       "2                             NaN      87   38.0        California   \n",
       "3       Chento Vineyard Selection      91   20.0  Mendoza Province   \n",
       "4                             NaN      90   49.0           Tuscany   \n",
       "\n",
       "                 region_1           region_2                 winery  \n",
       "0       Willamette Valley  Willamette Valley      Boedecker Cellars  \n",
       "1                 Mendoza                NaN      Mendoza Vineyards  \n",
       "2             Coombsville               Napa                  Prime  \n",
       "3                 Mendoza                NaN  Bodega Cuarto Dominio  \n",
       "4  Brunello di Montalcino                NaN            SassodiSole  "
      ]
     },
     "execution_count": 9,
     "metadata": {},
     "output_type": "execute_result"
    }
   ],
   "source": [
    "test.drop_duplicates(['review_description','review_title'], inplace=True)\n",
    "test.reset_index(drop=True, inplace=True)\n",
    "test.head()"
   ]
  },
  {
   "cell_type": "code",
   "execution_count": 10,
   "metadata": {},
   "outputs": [
    {
     "data": {
      "text/plain": [
       "user_name             18536\n",
       "country                  33\n",
       "review_title              0\n",
       "review_description        0\n",
       "designation           22183\n",
       "points                    0\n",
       "price                  5285\n",
       "province                 33\n",
       "region_1              11961\n",
       "region_2              43827\n",
       "winery                    0\n",
       "variety                   0\n",
       "dtype: int64"
      ]
     },
     "execution_count": 10,
     "metadata": {},
     "output_type": "execute_result"
    }
   ],
   "source": [
    "train.isnull().sum()"
   ]
  },
  {
   "cell_type": "code",
   "execution_count": 11,
   "metadata": {},
   "outputs": [
    {
     "data": {
      "text/plain": [
       "user_name              4681\n",
       "country                   3\n",
       "review_title              0\n",
       "review_description        0\n",
       "designation            5901\n",
       "points                    0\n",
       "price                  1374\n",
       "province                  3\n",
       "region_1               3255\n",
       "region_2              11566\n",
       "winery                    0\n",
       "dtype: int64"
      ]
     },
     "execution_count": 11,
     "metadata": {},
     "output_type": "execute_result"
    }
   ],
   "source": [
    "test.isnull().sum()"
   ]
  },
  {
   "cell_type": "markdown",
   "metadata": {},
   "source": [
    "Lot of missing values both in train & test data sets. Imputation leads to heavier approximations by the models in the later stage. We either have to delete columns of least importance. 'user_name', 'designation', 'price', 'region_1', 'region_2' has the most NaN values. Out of this only 'price' is an integer valued column. Let's delete missing rows in it first."
   ]
  },
  {
   "cell_type": "code",
   "execution_count": 12,
   "metadata": {},
   "outputs": [],
   "source": [
    "train.dropna(subset=['price'], inplace=True)\n",
    "train.reset_index(drop=True,inplace=True)\n",
    "test.dropna(subset=['price'],inplace=True)\n",
    "test.reset_index(drop=True, inplace=True)"
   ]
  },
  {
   "cell_type": "code",
   "execution_count": 13,
   "metadata": {},
   "outputs": [
    {
     "data": {
      "text/html": [
       "<div>\n",
       "<style scoped>\n",
       "    .dataframe tbody tr th:only-of-type {\n",
       "        vertical-align: middle;\n",
       "    }\n",
       "\n",
       "    .dataframe tbody tr th {\n",
       "        vertical-align: top;\n",
       "    }\n",
       "\n",
       "    .dataframe thead th {\n",
       "        text-align: right;\n",
       "    }\n",
       "</style>\n",
       "<table border=\"1\" class=\"dataframe\">\n",
       "  <thead>\n",
       "    <tr style=\"text-align: right;\">\n",
       "      <th></th>\n",
       "      <th>user_name</th>\n",
       "      <th>country</th>\n",
       "      <th>review_title</th>\n",
       "      <th>review_description</th>\n",
       "      <th>designation</th>\n",
       "      <th>points</th>\n",
       "      <th>price</th>\n",
       "      <th>province</th>\n",
       "      <th>region_1</th>\n",
       "      <th>region_2</th>\n",
       "      <th>winery</th>\n",
       "      <th>variety</th>\n",
       "    </tr>\n",
       "  </thead>\n",
       "  <tbody>\n",
       "    <tr>\n",
       "      <th>27135</th>\n",
       "      <td>@mattkettmann</td>\n",
       "      <td>US</td>\n",
       "      <td>Blair 2013 Roger Rose Vineyard Chardonnay (Arr...</td>\n",
       "      <td>The nose on this single-vineyard wine from a s...</td>\n",
       "      <td>Roger Rose Vineyard</td>\n",
       "      <td>91</td>\n",
       "      <td>2013.0</td>\n",
       "      <td>California</td>\n",
       "      <td>Arroyo Seco</td>\n",
       "      <td>Central Coast</td>\n",
       "      <td>Blair</td>\n",
       "      <td>Chardonnay</td>\n",
       "    </tr>\n",
       "    <tr>\n",
       "      <th>53643</th>\n",
       "      <td>@vossroger</td>\n",
       "      <td>France</td>\n",
       "      <td>Château les Ormes Sorbet 2013  Médoc</td>\n",
       "      <td>This ripe wine shows plenty of blackberry frui...</td>\n",
       "      <td>NaN</td>\n",
       "      <td>88</td>\n",
       "      <td>3300.0</td>\n",
       "      <td>Bordeaux</td>\n",
       "      <td>Médoc</td>\n",
       "      <td>NaN</td>\n",
       "      <td>Château les Ormes Sorbet</td>\n",
       "      <td>Bordeaux-style Red Blend</td>\n",
       "    </tr>\n",
       "    <tr>\n",
       "      <th>56404</th>\n",
       "      <td>@vossroger</td>\n",
       "      <td>France</td>\n",
       "      <td>Château Pétrus 2014  Pomerol</td>\n",
       "      <td>The wine is a velvet glove in an iron fist. Th...</td>\n",
       "      <td>NaN</td>\n",
       "      <td>96</td>\n",
       "      <td>2500.0</td>\n",
       "      <td>Bordeaux</td>\n",
       "      <td>Pomerol</td>\n",
       "      <td>NaN</td>\n",
       "      <td>Château Pétrus</td>\n",
       "      <td>Bordeaux-style Red Blend</td>\n",
       "    </tr>\n",
       "  </tbody>\n",
       "</table>\n",
       "</div>"
      ],
      "text/plain": [
       "           user_name country  \\\n",
       "27135  @mattkettmann      US   \n",
       "53643     @vossroger  France   \n",
       "56404     @vossroger  France   \n",
       "\n",
       "                                            review_title  \\\n",
       "27135  Blair 2013 Roger Rose Vineyard Chardonnay (Arr...   \n",
       "53643               Château les Ormes Sorbet 2013  Médoc   \n",
       "56404                       Château Pétrus 2014  Pomerol   \n",
       "\n",
       "                                      review_description          designation  \\\n",
       "27135  The nose on this single-vineyard wine from a s...  Roger Rose Vineyard   \n",
       "53643  This ripe wine shows plenty of blackberry frui...                  NaN   \n",
       "56404  The wine is a velvet glove in an iron fist. Th...                  NaN   \n",
       "\n",
       "       points   price    province     region_1       region_2  \\\n",
       "27135      91  2013.0  California  Arroyo Seco  Central Coast   \n",
       "53643      88  3300.0    Bordeaux        Médoc            NaN   \n",
       "56404      96  2500.0    Bordeaux      Pomerol            NaN   \n",
       "\n",
       "                         winery                   variety  \n",
       "27135                     Blair                Chardonnay  \n",
       "53643  Château les Ormes Sorbet  Bordeaux-style Red Blend  \n",
       "56404            Château Pétrus  Bordeaux-style Red Blend  "
      ]
     },
     "execution_count": 13,
     "metadata": {},
     "output_type": "execute_result"
    }
   ],
   "source": [
    "train[(train['price'] > 2000)]\n",
    "#test[test['price'] > 2200]"
   ]
  },
  {
   "cell_type": "markdown",
   "metadata": {},
   "source": [
    "Lot of variance among the top 3 expensive wines. These could be outliers for our data if they are sparsely distributed.\n",
    "\n",
    "### Basic EDA & Feature Engineering.\n",
    "This section is quite important in any data science project where the real insights among the data are postulated and forms a basis for decision making in the later stages. We also derive best features & create them if necessary and is called as feature engineering before proceeding to build our machine learning models."
   ]
  },
  {
   "cell_type": "code",
   "execution_count": 14,
   "metadata": {},
   "outputs": [
    {
     "data": {
      "image/png": "[encoded data removed]",
      "text/plain": [
       "<Figure size 1080x432 with 1 Axes>"
      ]
     },
     "metadata": {
      "needs_background": "light"
     },
     "output_type": "display_data"
    }
   ],
   "source": [
    "def pastel_plot(data, x, y):\n",
    "    plt.figure(figsize = (15,6))\n",
    "    plt.title('Points histogram - training set')\n",
    "    sns.set_color_codes(\"pastel\")\n",
    "    sns.barplot(x = x, y=y, data=df)\n",
    "    locs, labels = plt.xticks()\n",
    "    plt.show()\n",
    "t = train['points'].value_counts()\n",
    "df = pd.DataFrame({'points': t.index,\n",
    "                   'number_of_wines': t.values\n",
    "                  })\n",
    "\n",
    "pastel_plot(df,'points', 'number_of_wines')"
   ]
  },
  {
   "cell_type": "markdown",
   "metadata": {},
   "source": [
    "The data follows a normal distribution with most of them centered around 88"
   ]
  },
  {
   "cell_type": "code",
   "execution_count": 15,
   "metadata": {},
   "outputs": [
    {
     "data": {
      "image/png": "[encoded data removed]",
      "text/plain": [
       "<Figure size 1152x432 with 1 Axes>"
      ]
     },
     "metadata": {
      "needs_background": "light"
     },
     "output_type": "display_data"
    }
   ],
   "source": [
    "plt.figure(figsize=(16,6))\n",
    "plt.title('Price distribution')\n",
    "ax = sns.distplot(train['price'])"
   ]
  },
  {
   "cell_type": "markdown",
   "metadata": {},
   "source": [
    "Distribution is not uniform with large tails. We can scale the data & see how it looks like."
   ]
  },
  {
   "cell_type": "code",
   "execution_count": 16,
   "metadata": {},
   "outputs": [
    {
     "name": "stdout",
     "output_type": "stream",
     "text": [
      "0.659240422356128 % of wines are more expensive than 200 USD\n"
     ]
    },
    {
     "data": {
      "image/png": "[encoded data removed]",
      "text/plain": [
       "<Figure size 720x288 with 1 Axes>"
      ]
     },
     "metadata": {
      "needs_background": "light"
     },
     "output_type": "display_data"
    }
   ],
   "source": [
    "plt.figure(figsize=(10,4))\n",
    "plt.title('Price distribution')\n",
    "ax = sns.distplot(train[train[\"price\"]<200]['price'])\n",
    "\n",
    "percent=train[train['price']>200].shape[0]/train.shape[0]*100\n",
    "print(\"{} % of wines are more expensive than 200 USD\".format(percent))"
   ]
  },
  {
   "cell_type": "markdown",
   "metadata": {},
   "source": [
    "Dropping just 0.59% of the data brings its normality back.\n",
    "\n",
    "#### Plots based on various attributes\n",
    "\n",
    "Country wise"
   ]
  },
  {
   "cell_type": "code",
   "execution_count": 17,
   "metadata": {},
   "outputs": [
    {
     "data": {
      "text/plain": [
       "<matplotlib.axes._subplots.AxesSubplot at 0x7ff381d96790>"
      ]
     },
     "execution_count": 17,
     "metadata": {},
     "output_type": "execute_result"
    },
    {
     "data": {
      "image/png": "[encoded data removed]",
      "text/plain": [
       "<Figure size 432x288 with 1 Axes>"
      ]
     },
     "metadata": {
      "needs_background": "light"
     },
     "output_type": "display_data"
    }
   ],
   "source": [
    "c = train['country'].value_counts()\n",
    "c = c.iloc[0:5]\n",
    "c.plot(kind='bar')"
   ]
  },
  {
   "cell_type": "markdown",
   "metadata": {},
   "source": [
    "Variety wise"
   ]
  },
  {
   "cell_type": "code",
   "execution_count": 18,
   "metadata": {},
   "outputs": [
    {
     "data": {
      "text/plain": [
       "<matplotlib.axes._subplots.AxesSubplot at 0x7ff381d0ea10>"
      ]
     },
     "execution_count": 18,
     "metadata": {},
     "output_type": "execute_result"
    },
    {
     "data": {
      "image/png": "[encoded data removed]",
      "text/plain": [
       "<Figure size 432x288 with 1 Axes>"
      ]
     },
     "metadata": {
      "needs_background": "light"
     },
     "output_type": "display_data"
    }
   ],
   "source": [
    "v = train['variety'].value_counts()\n",
    "v = v.iloc[0:5]\n",
    "v.plot(kind='bar')"
   ]
  },
  {
   "cell_type": "markdown",
   "metadata": {},
   "source": [
    "Winery wise"
   ]
  },
  {
   "cell_type": "code",
   "execution_count": 19,
   "metadata": {},
   "outputs": [
    {
     "data": {
      "text/plain": [
       "<matplotlib.axes._subplots.AxesSubplot at 0x7ff381aab110>"
      ]
     },
     "execution_count": 19,
     "metadata": {},
     "output_type": "execute_result"
    },
    {
     "data": {
      "image/png": "[encoded data removed]",
      "text/plain": [
       "<Figure size 432x288 with 1 Axes>"
      ]
     },
     "metadata": {
      "needs_background": "light"
     },
     "output_type": "display_data"
    }
   ],
   "source": [
    "w= train['winery'].value_counts()\n",
    "w = w.iloc[0:5]\n",
    "w.plot(kind='bar')"
   ]
  },
  {
   "cell_type": "markdown",
   "metadata": {},
   "source": [
    "Points wise. 12 wine reviews gave best points as 100. These are the best reviews received."
   ]
  },
  {
   "cell_type": "code",
   "execution_count": 20,
   "metadata": {},
   "outputs": [
    {
     "data": {
      "text/plain": [
       "(12, 12)"
      ]
     },
     "execution_count": 20,
     "metadata": {},
     "output_type": "execute_result"
    }
   ],
   "source": [
    "p = train['points']\n",
    "best = p == 100\n",
    "train[best].shape"
   ]
  },
  {
   "cell_type": "markdown",
   "metadata": {},
   "source": [
    "Filtered through best prices for wines"
   ]
  },
  {
   "cell_type": "code",
   "execution_count": 21,
   "metadata": {},
   "outputs": [
    {
     "data": {
      "text/plain": [
       "<matplotlib.axes._subplots.AxesSubplot at 0x7ff381d00550>"
      ]
     },
     "execution_count": 21,
     "metadata": {},
     "output_type": "execute_result"
    },
    {
     "data": {
      "image/png": "[encoded data removed]",
      "text/plain": [
       "<Figure size 432x288 with 1 Axes>"
      ]
     },
     "metadata": {
      "needs_background": "light"
     },
     "output_type": "display_data"
    }
   ],
   "source": [
    "train[best]['price'].plot(kind='bar', legend=True)"
   ]
  },
  {
   "cell_type": "markdown",
   "metadata": {},
   "source": [
    "Filtered through best wine varities"
   ]
  },
  {
   "cell_type": "code",
   "execution_count": 22,
   "metadata": {},
   "outputs": [
    {
     "data": {
      "text/plain": [
       "<matplotlib.axes._subplots.AxesSubplot at 0x7ff381f2fc10>"
      ]
     },
     "execution_count": 22,
     "metadata": {},
     "output_type": "execute_result"
    },
    {
     "data": {
      "image/png": "[encoded data removed]",
      "text/plain": [
       "<Figure size 432x288 with 1 Axes>"
      ]
     },
     "metadata": {
      "needs_background": "light"
     },
     "output_type": "display_data"
    }
   ],
   "source": [
    "kind = train[best]['variety'].value_counts()\n",
    "kind.plot(kind='bar')"
   ]
  },
  {
   "cell_type": "markdown",
   "metadata": {},
   "source": [
    "Filetered through best wine producing nations"
   ]
  },
  {
   "cell_type": "code",
   "execution_count": 23,
   "metadata": {},
   "outputs": [
    {
     "data": {
      "text/plain": [
       "<matplotlib.axes._subplots.AxesSubplot at 0x7ff3820b1390>"
      ]
     },
     "execution_count": 23,
     "metadata": {},
     "output_type": "execute_result"
    },
    {
     "data": {
      "image/png": "[encoded data removed]",
      "text/plain": [
       "<Figure size 432x288 with 1 Axes>"
      ]
     },
     "metadata": {
      "needs_background": "light"
     },
     "output_type": "display_data"
    }
   ],
   "source": [
    "nation = train[best]['country'].value_counts()\n",
    "nation.plot(kind='bar')"
   ]
  },
  {
   "cell_type": "markdown",
   "metadata": {},
   "source": [
    "Sorting the countries with expensive wines & high ratings."
   ]
  },
  {
   "cell_type": "code",
   "execution_count": 24,
   "metadata": {},
   "outputs": [
    {
     "name": "stderr",
     "output_type": "stream",
     "text": [
      "/home/sai_vyas/anaconda3/lib/python3.7/site-packages/ipykernel_launcher.py:1: FutureWarning: Indexing with multiple keys (implicitly converted to a tuple of keys) will be deprecated, use a list instead.\n",
      "  \"\"\"Entry point for launching an IPython kernel.\n"
     ]
    },
    {
     "data": {
      "text/html": [
       "<div>\n",
       "<style scoped>\n",
       "    .dataframe tbody tr th:only-of-type {\n",
       "        vertical-align: middle;\n",
       "    }\n",
       "\n",
       "    .dataframe tbody tr th {\n",
       "        vertical-align: top;\n",
       "    }\n",
       "\n",
       "    .dataframe thead th {\n",
       "        text-align: right;\n",
       "    }\n",
       "</style>\n",
       "<table border=\"1\" class=\"dataframe\">\n",
       "  <thead>\n",
       "    <tr style=\"text-align: right;\">\n",
       "      <th></th>\n",
       "      <th>country</th>\n",
       "      <th>price</th>\n",
       "    </tr>\n",
       "  </thead>\n",
       "  <tbody>\n",
       "    <tr>\n",
       "      <th>33</th>\n",
       "      <td>Switzerland</td>\n",
       "      <td>94.750000</td>\n",
       "    </tr>\n",
       "    <tr>\n",
       "      <th>10</th>\n",
       "      <td>England</td>\n",
       "      <td>51.538462</td>\n",
       "    </tr>\n",
       "    <tr>\n",
       "      <th>18</th>\n",
       "      <td>Italy</td>\n",
       "      <td>46.738333</td>\n",
       "    </tr>\n",
       "    <tr>\n",
       "      <th>13</th>\n",
       "      <td>Germany</td>\n",
       "      <td>44.724688</td>\n",
       "    </tr>\n",
       "    <tr>\n",
       "      <th>11</th>\n",
       "      <td>France</td>\n",
       "      <td>44.122072</td>\n",
       "    </tr>\n",
       "    <tr>\n",
       "      <th>35</th>\n",
       "      <td>US</td>\n",
       "      <td>37.568786</td>\n",
       "    </tr>\n",
       "    <tr>\n",
       "      <th>29</th>\n",
       "      <td>Serbia</td>\n",
       "      <td>34.666667</td>\n",
       "    </tr>\n",
       "    <tr>\n",
       "      <th>5</th>\n",
       "      <td>Canada</td>\n",
       "      <td>33.470199</td>\n",
       "    </tr>\n",
       "    <tr>\n",
       "      <th>17</th>\n",
       "      <td>Israel</td>\n",
       "      <td>32.914676</td>\n",
       "    </tr>\n",
       "    <tr>\n",
       "      <th>2</th>\n",
       "      <td>Austria</td>\n",
       "      <td>31.970490</td>\n",
       "    </tr>\n",
       "  </tbody>\n",
       "</table>\n",
       "</div>"
      ],
      "text/plain": [
       "        country      price\n",
       "33  Switzerland  94.750000\n",
       "10      England  51.538462\n",
       "18        Italy  46.738333\n",
       "13      Germany  44.724688\n",
       "11       France  44.122072\n",
       "35           US  37.568786\n",
       "29       Serbia  34.666667\n",
       "5        Canada  33.470199\n",
       "17       Israel  32.914676\n",
       "2       Austria  31.970490"
      ]
     },
     "execution_count": 24,
     "metadata": {},
     "output_type": "execute_result"
    }
   ],
   "source": [
    "z=train.groupby(['country'])['price','points'].mean().reset_index().sort_values('price',ascending=False)\n",
    "z[['country','price']].head(10)"
   ]
  },
  {
   "cell_type": "code",
   "execution_count": 25,
   "metadata": {},
   "outputs": [
    {
     "data": {
      "image/png": "[encoded data removed]",
      "text/plain": [
       "<Figure size 720x288 with 1 Axes>"
      ]
     },
     "metadata": {
      "needs_background": "light"
     },
     "output_type": "display_data"
    }
   ],
   "source": [
    "plt.figure(figsize = (10,4))\n",
    "plt.title('Prices among various countries')\n",
    "sns.barplot(x = 'country', y='price', data=z.head(10))\n",
    "locs, labels = plt.xticks()\n",
    "plt.show()"
   ]
  },
  {
   "cell_type": "markdown",
   "metadata": {},
   "source": [
    "Sorting with highest ratings among them"
   ]
  },
  {
   "cell_type": "code",
   "execution_count": 26,
   "metadata": {},
   "outputs": [
    {
     "data": {
      "text/html": [
       "<div>\n",
       "<style scoped>\n",
       "    .dataframe tbody tr th:only-of-type {\n",
       "        vertical-align: middle;\n",
       "    }\n",
       "\n",
       "    .dataframe tbody tr th {\n",
       "        vertical-align: top;\n",
       "    }\n",
       "\n",
       "    .dataframe thead th {\n",
       "        text-align: right;\n",
       "    }\n",
       "</style>\n",
       "<table border=\"1\" class=\"dataframe\">\n",
       "  <thead>\n",
       "    <tr style=\"text-align: right;\">\n",
       "      <th></th>\n",
       "      <th>country</th>\n",
       "      <th>points</th>\n",
       "    </tr>\n",
       "  </thead>\n",
       "  <tbody>\n",
       "    <tr>\n",
       "      <th>10</th>\n",
       "      <td>England</td>\n",
       "      <td>91.538462</td>\n",
       "    </tr>\n",
       "    <tr>\n",
       "      <th>2</th>\n",
       "      <td>Austria</td>\n",
       "      <td>90.454058</td>\n",
       "    </tr>\n",
       "    <tr>\n",
       "      <th>13</th>\n",
       "      <td>Germany</td>\n",
       "      <td>90.045076</td>\n",
       "    </tr>\n",
       "    <tr>\n",
       "      <th>5</th>\n",
       "      <td>Canada</td>\n",
       "      <td>89.331126</td>\n",
       "    </tr>\n",
       "    <tr>\n",
       "      <th>18</th>\n",
       "      <td>Italy</td>\n",
       "      <td>89.051254</td>\n",
       "    </tr>\n",
       "    <tr>\n",
       "      <th>16</th>\n",
       "      <td>India</td>\n",
       "      <td>89.000000</td>\n",
       "    </tr>\n",
       "    <tr>\n",
       "      <th>24</th>\n",
       "      <td>Morocco</td>\n",
       "      <td>88.842105</td>\n",
       "    </tr>\n",
       "    <tr>\n",
       "      <th>11</th>\n",
       "      <td>France</td>\n",
       "      <td>88.771104</td>\n",
       "    </tr>\n",
       "    <tr>\n",
       "      <th>35</th>\n",
       "      <td>US</td>\n",
       "      <td>88.612594</td>\n",
       "    </tr>\n",
       "    <tr>\n",
       "      <th>17</th>\n",
       "      <td>Israel</td>\n",
       "      <td>88.511945</td>\n",
       "    </tr>\n",
       "  </tbody>\n",
       "</table>\n",
       "</div>"
      ],
      "text/plain": [
       "    country     points\n",
       "10  England  91.538462\n",
       "2   Austria  90.454058\n",
       "13  Germany  90.045076\n",
       "5    Canada  89.331126\n",
       "18    Italy  89.051254\n",
       "16    India  89.000000\n",
       "24  Morocco  88.842105\n",
       "11   France  88.771104\n",
       "35       US  88.612594\n",
       "17   Israel  88.511945"
      ]
     },
     "execution_count": 26,
     "metadata": {},
     "output_type": "execute_result"
    }
   ],
   "source": [
    "z=z.sort_values('points', ascending=False)\n",
    "z[['country','points']].head(10)"
   ]
  },
  {
   "cell_type": "code",
   "execution_count": 27,
   "metadata": {},
   "outputs": [
    {
     "data": {
      "image/png": "[encoded data removed]",
      "text/plain": [
       "<Figure size 720x288 with 1 Axes>"
      ]
     },
     "metadata": {
      "needs_background": "light"
     },
     "output_type": "display_data"
    }
   ],
   "source": [
    "plt.figure(figsize = (10,4))\n",
    "plt.title('Points for wines in diffrent countries')\n",
    "sns.set_color_codes('pastel')\n",
    "sns.barplot(x = 'country', y='points', data=z.head(5))\n",
    "locs, labels = plt.xticks()\n",
    "plt.show()"
   ]
  },
  {
   "cell_type": "markdown",
   "metadata": {},
   "source": [
    "Wines in Switzerland are the most expensive ones as cost of living is usually high. The highest mean of points came to England based on our data, and following reasonates with why so\n",
    "\n",
    "    Most good wines come from England.\n",
    "    England provided information only on best wines\n",
    "    It is among the top wine consuming nations\n",
    "Analysis of country wise wine number,"
   ]
  },
  {
   "cell_type": "code",
   "execution_count": 28,
   "metadata": {},
   "outputs": [
    {
     "data": {
      "text/plain": [
       "US              36112\n",
       "France          11870\n",
       "Italy            7414\n",
       "Chile            2708\n",
       "Portugal         2642\n",
       "Spain            2541\n",
       "Argentina        2400\n",
       "Austria          1491\n",
       "Germany          1442\n",
       "New Zealand      1004\n",
       "Australia         958\n",
       "South Africa      622\n",
       "Israel            293\n",
       "Canada            151\n",
       "Greece            133\n",
       "Bulgaria           91\n",
       "Romania            69\n",
       "England            52\n",
       "Mexico             38\n",
       "Slovenia           34\n",
       "Name: country, dtype: int64"
      ]
     },
     "execution_count": 28,
     "metadata": {},
     "output_type": "execute_result"
    },
    {
     "data": {
      "image/png": "[encoded data removed]",
      "text/plain": [
       "<Figure size 432x288 with 1 Axes>"
      ]
     },
     "metadata": {
      "needs_background": "light"
     },
     "output_type": "display_data"
    }
   ],
   "source": [
    "c=train['country'].value_counts()\n",
    "c.head(10).plot.bar()\n",
    "c.head(20)"
   ]
  },
  {
   "cell_type": "markdown",
   "metadata": {},
   "source": [
    "England is at the bottom of the pool & 2nd guess could be the potential reason\n",
    "\n",
    "#### Feature Engg."
   ]
  },
  {
   "cell_type": "code",
   "execution_count": 29,
   "metadata": {},
   "outputs": [
    {
     "data": {
      "text/plain": [
       "Index(['user_name', 'country', 'review_title', 'review_description',\n",
       "       'designation', 'points', 'price', 'province', 'region_1', 'region_2',\n",
       "       'winery', 'variety'],\n",
       "      dtype='object')"
      ]
     },
     "execution_count": 29,
     "metadata": {},
     "output_type": "execute_result"
    }
   ],
   "source": [
    "train.columns"
   ]
  },
  {
   "cell_type": "code",
   "execution_count": 30,
   "metadata": {},
   "outputs": [
    {
     "data": {
      "text/plain": [
       "Index(['user_name', 'country', 'review_title', 'review_description',\n",
       "       'designation', 'points', 'price', 'province', 'region_1', 'region_2',\n",
       "       'winery'],\n",
       "      dtype='object')"
      ]
     },
     "execution_count": 30,
     "metadata": {},
     "output_type": "execute_result"
    }
   ],
   "source": [
    "test.columns"
   ]
  },
  {
   "cell_type": "code",
   "execution_count": 31,
   "metadata": {},
   "outputs": [],
   "source": [
    "train_1 = train.drop(['user_name', 'review_title', 'review_description'], axis=1)\n",
    "test_1 = test.drop(['user_name', 'review_title', 'review_description'], axis=1)"
   ]
  },
  {
   "cell_type": "code",
   "execution_count": 32,
   "metadata": {},
   "outputs": [
    {
     "data": {
      "text/plain": [
       "Index(['country', 'designation', 'points', 'price', 'province', 'region_1',\n",
       "       'region_2', 'winery'],\n",
       "      dtype='object')"
      ]
     },
     "execution_count": 32,
     "metadata": {},
     "output_type": "execute_result"
    }
   ],
   "source": [
    "y_train = train_1['variety']\n",
    "X_train = train_1.drop(columns=['variety'], axis=1)\n",
    "X_train = X_train.fillna(-1)\n",
    "X_train.columns"
   ]
  },
  {
   "cell_type": "code",
   "execution_count": 33,
   "metadata": {},
   "outputs": [
    {
     "data": {
      "text/plain": [
       "Index(['country', 'designation', 'points', 'price', 'province', 'region_1',\n",
       "       'region_2', 'winery'],\n",
       "      dtype='object')"
      ]
     },
     "execution_count": 33,
     "metadata": {},
     "output_type": "execute_result"
    }
   ],
   "source": [
    "X_test = test_1\n",
    "X_test = X_test.fillna(-1)\n",
    "test_1['variety'] = \"\"\n",
    "y_test = test_1['variety']\n",
    "X_test.columns"
   ]
  },
  {
   "cell_type": "code",
   "execution_count": 34,
   "metadata": {},
   "outputs": [],
   "source": [
    "# Lets also create a validation set within the training set to later see the result & tune hyper parameters\n",
    "from sklearn.model_selection import train_test_split\n",
    "X_train, X_valid, y_train, y_valid = train_test_split(X_train, y_train, test_size=0.2, \n",
    "                                                    random_state=52)"
   ]
  },
  {
   "cell_type": "code",
   "execution_count": 35,
   "metadata": {},
   "outputs": [
    {
     "name": "stdout",
     "output_type": "stream",
     "text": [
      "Index(['country', 'designation', 'points', 'price', 'province', 'region_1',\n",
      "       'region_2', 'winery'],\n",
      "      dtype='object')\n",
      "Index(['country', 'designation', 'points', 'price', 'province', 'region_1',\n",
      "       'region_2', 'winery'],\n",
      "      dtype='object')\n",
      "Index(['country', 'designation', 'points', 'price', 'province', 'region_1',\n",
      "       'region_2', 'winery'],\n",
      "      dtype='object')\n",
      "46417    Cabernet Sauvignon\n",
      "4729             Chardonnay\n",
      "51388            Pinot Noir\n",
      "62975           Tempranillo\n",
      "4435             Pinot Gris\n",
      "                ...        \n",
      "60650            Chardonnay\n",
      "58268           White Blend\n",
      "69783            Chardonnay\n",
      "56845                  Rosé\n",
      "42652    Cabernet Sauvignon\n",
      "Name: variety, Length: 57884, dtype: object\n"
     ]
    }
   ],
   "source": [
    "print(X_train.columns)\n",
    "print(X_test.columns)\n",
    "print(X_valid.columns)\n",
    "print(y_train)"
   ]
  },
  {
   "cell_type": "code",
   "execution_count": 36,
   "metadata": {},
   "outputs": [
    {
     "name": "stdout",
     "output_type": "stream",
     "text": [
      "feature indices with categorical variables are [0 1 2 4 5 6 7]\n"
     ]
    }
   ],
   "source": [
    "categorical_features_indices = np.where(X_train.dtypes != np.float)[0]\n",
    "print('feature indices with categorical variables are {}'.format(categorical_features_indices))"
   ]
  },
  {
   "cell_type": "code",
   "execution_count": 37,
   "metadata": {},
   "outputs": [
    {
     "data": {
      "text/plain": [
       "Pinot Noir                    0.132973\n",
       "Chardonnay                    0.114522\n",
       "Cabernet Sauvignon            0.097955\n",
       "Red Blend                     0.088988\n",
       "Bordeaux-style Red Blend      0.054955\n",
       "Riesling                      0.051292\n",
       "Sauvignon Blanc               0.049634\n",
       "Syrah                         0.042171\n",
       "Rosé                          0.032237\n",
       "Merlot                        0.032047\n",
       "Zinfandel                     0.029490\n",
       "Malbec                        0.027002\n",
       "Sangiovese                    0.024411\n",
       "Nebbiolo                      0.024411\n",
       "White Blend                   0.022908\n",
       "Portuguese Red                0.022493\n",
       "Sparkling Blend               0.020921\n",
       "Tempranillo                   0.018554\n",
       "Rhône-style Red Blend         0.014598\n",
       "Pinot Gris                    0.013994\n",
       "Cabernet Franc                0.013406\n",
       "Champagne Blend               0.012646\n",
       "Grüner Veltliner              0.011679\n",
       "Pinot Grigio                  0.010763\n",
       "Gewürztraminer                0.010331\n",
       "Portuguese White              0.009813\n",
       "Gamay                         0.008586\n",
       "Bordeaux-style White Blend    0.007221\n",
       "Name: variety, dtype: float64"
      ]
     },
     "execution_count": 37,
     "metadata": {},
     "output_type": "execute_result"
    }
   ],
   "source": [
    "y_train.value_counts(normalize=True)"
   ]
  },
  {
   "cell_type": "markdown",
   "metadata": {},
   "source": [
    "CatBoostClassifier model with Multi Class loss function. Also computed are the prediction classes, probabilities, raw values, count of trees, best score"
   ]
  },
  {
   "cell_type": "code",
   "execution_count": 38,
   "metadata": {},
   "outputs": [
    {
     "name": "stdout",
     "output_type": "stream",
     "text": [
      "0:\tlearn: 3.7650216\ttest: 3.6441376\tbest: 3.6441376 (0)\ttotal: 1.95s\tremaining: 1m 35s\n",
      "1:\tlearn: 38.7581644\ttest: 37.7715542\tbest: 3.6441376 (0)\ttotal: 3.42s\tremaining: 1m 22s\n",
      "2:\tlearn: 432.7383794\ttest: 412.6205719\tbest: 3.6441376 (0)\ttotal: 4.91s\tremaining: 1m 16s\n",
      "3:\tlearn: 762.6052768\ttest: 745.9041335\tbest: 3.6441376 (0)\ttotal: 6.45s\tremaining: 1m 14s\n",
      "4:\tlearn: 497.1233748\ttest: 480.0276594\tbest: 3.6441376 (0)\ttotal: 7.93s\tremaining: 1m 11s\n",
      "5:\tlearn: 797.2052113\ttest: 760.5516135\tbest: 3.6441376 (0)\ttotal: 9.64s\tremaining: 1m 10s\n",
      "6:\tlearn: 565.4984219\ttest: 546.1102810\tbest: 3.6441376 (0)\ttotal: 12.3s\tremaining: 1m 15s\n",
      "7:\tlearn: 375.6637654\ttest: 348.9201644\tbest: 3.6441376 (0)\ttotal: 14.5s\tremaining: 1m 16s\n",
      "8:\tlearn: 874.2912215\ttest: 844.4847905\tbest: 3.6441376 (0)\ttotal: 16.7s\tremaining: 1m 16s\n",
      "9:\tlearn: 857.4543859\ttest: 832.3641772\tbest: 3.6441376 (0)\ttotal: 19s\tremaining: 1m 16s\n",
      "10:\tlearn: 680.3517317\ttest: 664.3520823\tbest: 3.6441376 (0)\ttotal: 21.4s\tremaining: 1m 15s\n",
      "11:\tlearn: 1002.3451185\ttest: 996.6944105\tbest: 3.6441376 (0)\ttotal: 23.5s\tremaining: 1m 14s\n",
      "12:\tlearn: 1089.9249251\ttest: 1096.8735971\tbest: 3.6441376 (0)\ttotal: 25.2s\tremaining: 1m 11s\n",
      "13:\tlearn: 1566.8672329\ttest: 1576.1318125\tbest: 3.6441376 (0)\ttotal: 27.6s\tremaining: 1m 10s\n",
      "14:\tlearn: 2316.5565554\ttest: 2338.3413571\tbest: 3.6441376 (0)\ttotal: 30.1s\tremaining: 1m 10s\n",
      "15:\tlearn: 2091.4934745\ttest: 2073.8935422\tbest: 3.6441376 (0)\ttotal: 31.6s\tremaining: 1m 7s\n",
      "16:\tlearn: 2062.4158231\ttest: 2047.5010404\tbest: 3.6441376 (0)\ttotal: 33.4s\tremaining: 1m 4s\n",
      "17:\tlearn: 2372.4511248\ttest: 2363.5362073\tbest: 3.6441376 (0)\ttotal: 35s\tremaining: 1m 2s\n",
      "18:\tlearn: 2074.4816262\ttest: 2048.6393412\tbest: 3.6441376 (0)\ttotal: 36.5s\tremaining: 59.6s\n",
      "19:\tlearn: 2364.8232719\ttest: 2353.9742023\tbest: 3.6441376 (0)\ttotal: 38.4s\tremaining: 57.7s\n",
      "20:\tlearn: 2800.3757783\ttest: 2772.0061076\tbest: 3.6441376 (0)\ttotal: 40.8s\tremaining: 56.3s\n",
      "21:\tlearn: 2750.4903137\ttest: 2736.7111460\tbest: 3.6441376 (0)\ttotal: 43.1s\tremaining: 54.9s\n",
      "22:\tlearn: 3469.2603604\ttest: 3494.7108928\tbest: 3.6441376 (0)\ttotal: 45.2s\tremaining: 53.1s\n",
      "23:\tlearn: 3028.9893782\ttest: 3047.7207987\tbest: 3.6441376 (0)\ttotal: 47.2s\tremaining: 51.1s\n",
      "24:\tlearn: 2304.8080190\ttest: 2292.4118275\tbest: 3.6441376 (0)\ttotal: 49.1s\tremaining: 49.1s\n",
      "25:\tlearn: 2865.0891191\ttest: 2863.8831956\tbest: 3.6441376 (0)\ttotal: 51s\tremaining: 47s\n",
      "26:\tlearn: 2934.0490870\ttest: 2966.4930250\tbest: 3.6441376 (0)\ttotal: 52.9s\tremaining: 45.1s\n",
      "27:\tlearn: 2668.0221927\ttest: 2711.3417662\tbest: 3.6441376 (0)\ttotal: 55.3s\tremaining: 43.4s\n",
      "28:\tlearn: 2545.1757216\ttest: 2582.9045086\tbest: 3.6441376 (0)\ttotal: 57.4s\tremaining: 41.6s\n",
      "29:\tlearn: 2436.7055061\ttest: 2434.2177351\tbest: 3.6441376 (0)\ttotal: 59.2s\tremaining: 39.5s\n",
      "30:\tlearn: 2511.9159006\ttest: 2520.1874017\tbest: 3.6441376 (0)\ttotal: 1m\tremaining: 37.3s\n",
      "31:\tlearn: 2993.4588718\ttest: 3036.2674170\tbest: 3.6441376 (0)\ttotal: 1m 2s\tremaining: 35.2s\n",
      "32:\tlearn: 2354.5708849\ttest: 2391.0508267\tbest: 3.6441376 (0)\ttotal: 1m 4s\tremaining: 33.1s\n",
      "33:\tlearn: 2322.8385063\ttest: 2327.3311967\tbest: 3.6441376 (0)\ttotal: 1m 5s\tremaining: 31s\n",
      "34:\tlearn: 2603.5822765\ttest: 2626.6825512\tbest: 3.6441376 (0)\ttotal: 1m 7s\tremaining: 28.9s\n",
      "35:\tlearn: 2431.4394875\ttest: 2443.7652087\tbest: 3.6441376 (0)\ttotal: 1m 9s\tremaining: 26.9s\n",
      "36:\tlearn: 2752.8347477\ttest: 2764.4150756\tbest: 3.6441376 (0)\ttotal: 1m 10s\tremaining: 24.9s\n",
      "37:\tlearn: 2772.0014316\ttest: 2779.4150020\tbest: 3.6441376 (0)\ttotal: 1m 12s\tremaining: 22.9s\n",
      "38:\tlearn: 2300.2278878\ttest: 2254.9341031\tbest: 3.6441376 (0)\ttotal: 1m 14s\tremaining: 20.9s\n",
      "39:\tlearn: 2733.6210494\ttest: 2682.1450473\tbest: 3.6441376 (0)\ttotal: 1m 15s\tremaining: 19s\n",
      "40:\tlearn: 2355.5275139\ttest: 2323.9693483\tbest: 3.6441376 (0)\ttotal: 1m 17s\tremaining: 17s\n",
      "41:\tlearn: 2448.5269760\ttest: 2388.2837759\tbest: 3.6441376 (0)\ttotal: 1m 19s\tremaining: 15.1s\n",
      "42:\tlearn: 3049.9633112\ttest: 3011.9946964\tbest: 3.6441376 (0)\ttotal: 1m 20s\tremaining: 13.2s\n",
      "43:\tlearn: 2737.3420463\ttest: 2660.5541320\tbest: 3.6441376 (0)\ttotal: 1m 22s\tremaining: 11.3s\n",
      "44:\tlearn: 2931.1634122\ttest: 2837.7580634\tbest: 3.6441376 (0)\ttotal: 1m 24s\tremaining: 9.37s\n",
      "45:\tlearn: 2773.1166012\ttest: 2676.9628065\tbest: 3.6441376 (0)\ttotal: 1m 25s\tremaining: 7.47s\n",
      "46:\tlearn: 2343.5649095\ttest: 2250.7994457\tbest: 3.6441376 (0)\ttotal: 1m 27s\tremaining: 5.58s\n",
      "47:\tlearn: 3115.3430845\ttest: 3057.8840274\tbest: 3.6441376 (0)\ttotal: 1m 29s\tremaining: 3.72s\n",
      "48:\tlearn: 2829.6737000\ttest: 2785.8302686\tbest: 3.6441376 (0)\ttotal: 1m 30s\tremaining: 1.85s\n",
      "49:\tlearn: 2868.5369278\ttest: 2823.0981004\tbest: 3.6441376 (0)\ttotal: 1m 32s\tremaining: 0us\n",
      "\n",
      "bestTest = 3.644137628\n",
      "bestIteration = 0\n",
      "\n",
      "Shrink model to first 1 iterations.\n",
      "Count of trees in model = 1\n"
     ]
    }
   ],
   "source": [
    "from catboost import Pool, CatBoostClassifier, cv\n",
    "\n",
    "\n",
    "train_dataset = Pool(data=X_train,\n",
    "                     label=y_train,\n",
    "                     cat_features=categorical_features_indices)\n",
    "\n",
    "eval_dataset = Pool(data=X_valid,\n",
    "                    label=y_valid,\n",
    "                    cat_features=categorical_features_indices)\n",
    "\n",
    "# Initialize CatBoostClassifier\n",
    "model = CatBoostClassifier(iterations=50,\n",
    "                           learning_rate=1,\n",
    "                           depth=2,\n",
    "                           loss_function='MultiClass')\n",
    "\n",
    "# Fit model\n",
    "model.fit(train_dataset, use_best_model=True, eval_set=eval_dataset)\n",
    "# Get predicted classes\n",
    "preds_class = model.predict(eval_dataset)\n",
    "# Get predicted probabilities for each class\n",
    "preds_proba = model.predict_proba(eval_dataset)\n",
    "# Get predicted RawFormulaVal\n",
    "preds_raw = model.predict(eval_dataset, \n",
    "                          prediction_type='RawFormulaVal')\n",
    "\"\"\"model.fit(train_dataset,\n",
    "          use_best_model=True,\n",
    "          eval_set=eval_dataset)\"\"\"\n",
    "\n",
    "print(\"Count of trees in model = {}\".format(model.tree_count_))"
   ]
  },
  {
   "cell_type": "code",
   "execution_count": 39,
   "metadata": {},
   "outputs": [
    {
     "name": "stdout",
     "output_type": "stream",
     "text": [
      "{'learn': {'MultiClass': 3.76502158218775}, 'validation': {'MultiClass': 3.6441376281106783}}\n"
     ]
    }
   ],
   "source": [
    "print(model.get_best_score())"
   ]
  },
  {
   "cell_type": "code",
   "execution_count": 40,
   "metadata": {},
   "outputs": [
    {
     "data": {
      "text/plain": [
       "array([['Red Blend'],\n",
       "       ['Cabernet Sauvignon'],\n",
       "       ['Riesling'],\n",
       "       ...,\n",
       "       ['Cabernet Sauvignon'],\n",
       "       ['Cabernet Sauvignon'],\n",
       "       ['Cabernet Sauvignon']], dtype=object)"
      ]
     },
     "execution_count": 40,
     "metadata": {},
     "output_type": "execute_result"
    }
   ],
   "source": [
    "preds_class"
   ]
  },
  {
   "cell_type": "code",
   "execution_count": 41,
   "metadata": {},
   "outputs": [
    {
     "data": {
      "text/plain": [
       "0.2582918739635158"
      ]
     },
     "execution_count": 41,
     "metadata": {},
     "output_type": "execute_result"
    }
   ],
   "source": [
    "model.score(X_valid, y_valid)"
   ]
  },
  {
   "cell_type": "code",
   "execution_count": 42,
   "metadata": {},
   "outputs": [
    {
     "data": {
      "text/plain": [
       "0.2577396171653652"
      ]
     },
     "execution_count": 42,
     "metadata": {},
     "output_type": "execute_result"
    }
   ],
   "source": [
    "model.score(X_train, y_train)"
   ]
  },
  {
   "cell_type": "code",
   "execution_count": 43,
   "metadata": {},
   "outputs": [
    {
     "data": {
      "text/plain": [
       "'cv_dataset = Pool(data=X_train,\\n                  label=y_train,\\n                  cat_features=categorical_features_indices)\\n\\nparams = {\"iterations\": 100,\\n          \"depth\": 2,\\n          \"loss_function\": \"MultiClass\",\\n          \"verbose\": False}\\n\\nscores = cv(cv_dataset,\\n            params,\\n            fold_count=2, \\n            plot=\"True\")\\n            \\nimport catboost\\nw = catboost.MetricVisualizer(\\'/\\', subdirs=True)\\nw.start()'"
      ]
     },
     "execution_count": 43,
     "metadata": {},
     "output_type": "execute_result"
    }
   ],
   "source": [
    "\"\"\"cv_dataset = Pool(data=X_train,\n",
    "                  label=y_train,\n",
    "                  cat_features=categorical_features_indices)\n",
    "\n",
    "params = {\"iterations\": 100,\n",
    "          \"depth\": 2,\n",
    "          \"loss_function\": \"MultiClass\",\n",
    "          \"verbose\": False}\n",
    "\n",
    "scores = cv(cv_dataset,\n",
    "            params,\n",
    "            fold_count=2, \n",
    "            plot=\"True\")\n",
    "            \n",
    "import catboost\n",
    "w = catboost.MetricVisualizer('/', subdirs=True)\n",
    "w.start()\"\"\""
   ]
  },
  {
   "cell_type": "code",
   "execution_count": 44,
   "metadata": {},
   "outputs": [
    {
     "data": {
      "text/plain": [
       "Index(['user_name', 'country', 'review_title', 'review_description',\n",
       "       'designation', 'points', 'price', 'province', 'region_1', 'region_2',\n",
       "       'winery', 'variety'],\n",
       "      dtype='object')"
      ]
     },
     "execution_count": 44,
     "metadata": {},
     "output_type": "execute_result"
    }
   ],
   "source": [
    "train.columns"
   ]
  },
  {
   "cell_type": "code",
   "execution_count": 45,
   "metadata": {},
   "outputs": [],
   "source": [
    "nw_X_train = train_1.drop(columns = ['variety'], axis=1)\n",
    "nw_X_train.fillna(-1, inplace=True)\n",
    "nw_y_train = train_1['variety']\n",
    "nw_X_test = test_1\n",
    "nw_X_test.fillna(-1, inplace=True)"
   ]
  },
  {
   "cell_type": "markdown",
   "metadata": {},
   "source": [
    "Final model running on combined training & validation data to predict label in the test set. This time with 50 Iterations."
   ]
  },
  {
   "cell_type": "code",
   "execution_count": 46,
   "metadata": {},
   "outputs": [
    {
     "name": "stdout",
     "output_type": "stream",
     "text": [
      "Index(['country', 'designation', 'points', 'price', 'province', 'region_1',\n",
      "       'region_2', 'winery'],\n",
      "      dtype='object')\n",
      "Index(['country', 'designation', 'points', 'price', 'province', 'region_1',\n",
      "       'region_2', 'winery', 'variety'],\n",
      "      dtype='object')\n",
      "0                        Chardonnay\n",
      "1                         Red Blend\n",
      "2                          Nebbiolo\n",
      "3        Bordeaux-style White Blend\n",
      "4                            Malbec\n",
      "                    ...            \n",
      "72351                    Chardonnay\n",
      "72352                   Tempranillo\n",
      "72353            Cabernet Sauvignon\n",
      "72354                         Gamay\n",
      "72355            Cabernet Sauvignon\n",
      "Name: variety, Length: 72356, dtype: object\n"
     ]
    }
   ],
   "source": [
    "print(nw_X_train.columns)\n",
    "print(nw_X_test.columns)\n",
    "print(nw_y_train)"
   ]
  },
  {
   "cell_type": "code",
   "execution_count": 47,
   "metadata": {},
   "outputs": [
    {
     "data": {
      "text/plain": [
       "country         object\n",
       "designation     object\n",
       "points           int64\n",
       "price          float64\n",
       "province        object\n",
       "region_1        object\n",
       "region_2        object\n",
       "winery          object\n",
       "dtype: object"
      ]
     },
     "execution_count": 47,
     "metadata": {},
     "output_type": "execute_result"
    }
   ],
   "source": [
    "nw_X_train.dtypes"
   ]
  },
  {
   "cell_type": "code",
   "execution_count": 48,
   "metadata": {},
   "outputs": [
    {
     "name": "stdout",
     "output_type": "stream",
     "text": [
      "0:\tlearn: 3.5066061\ttotal: 2.88s\tremaining: 2m 21s\n",
      "1:\tlearn: 33.8973523\ttotal: 5.57s\tremaining: 2m 13s\n",
      "2:\tlearn: 362.9230371\ttotal: 7.36s\tremaining: 1m 55s\n",
      "3:\tlearn: 322.3199543\ttotal: 9.37s\tremaining: 1m 47s\n",
      "4:\tlearn: 458.3849361\ttotal: 11.3s\tremaining: 1m 42s\n",
      "5:\tlearn: 473.8651342\ttotal: 13.3s\tremaining: 1m 37s\n",
      "6:\tlearn: 606.3883202\ttotal: 15.3s\tremaining: 1m 34s\n",
      "7:\tlearn: 1419.4725784\ttotal: 17.3s\tremaining: 1m 30s\n",
      "8:\tlearn: 2815.2857674\ttotal: 19.4s\tremaining: 1m 28s\n",
      "9:\tlearn: 4420.1161303\ttotal: 21.6s\tremaining: 1m 26s\n",
      "10:\tlearn: 4224.2123651\ttotal: 23.5s\tremaining: 1m 23s\n",
      "11:\tlearn: 4431.0845202\ttotal: 25.7s\tremaining: 1m 21s\n",
      "12:\tlearn: 4701.7880142\ttotal: 27.6s\tremaining: 1m 18s\n",
      "13:\tlearn: 4425.5196107\ttotal: 29.6s\tremaining: 1m 16s\n",
      "14:\tlearn: 4814.3239805\ttotal: 31.5s\tremaining: 1m 13s\n",
      "15:\tlearn: 5097.3137335\ttotal: 33.5s\tremaining: 1m 11s\n",
      "16:\tlearn: 5315.9357740\ttotal: 35.5s\tremaining: 1m 8s\n",
      "17:\tlearn: 4764.5575167\ttotal: 37.4s\tremaining: 1m 6s\n",
      "18:\tlearn: 4662.3597185\ttotal: 39.3s\tremaining: 1m 4s\n",
      "19:\tlearn: 3979.2408216\ttotal: 41.3s\tremaining: 1m 1s\n",
      "20:\tlearn: 4607.4964739\ttotal: 43.2s\tremaining: 59.7s\n",
      "21:\tlearn: 4740.4183527\ttotal: 45.2s\tremaining: 57.5s\n",
      "22:\tlearn: 4793.7790642\ttotal: 47s\tremaining: 55.2s\n",
      "23:\tlearn: 4588.8151485\ttotal: 48.7s\tremaining: 52.8s\n",
      "24:\tlearn: 4326.3984137\ttotal: 50.6s\tremaining: 50.6s\n",
      "25:\tlearn: 4262.1748359\ttotal: 52.4s\tremaining: 48.3s\n",
      "26:\tlearn: 3948.3441719\ttotal: 54.2s\tremaining: 46.2s\n",
      "27:\tlearn: 3779.6982194\ttotal: 56.8s\tremaining: 44.6s\n",
      "28:\tlearn: 4065.8807026\ttotal: 58.7s\tremaining: 42.5s\n",
      "29:\tlearn: 4037.6118281\ttotal: 1m\tremaining: 40.4s\n",
      "30:\tlearn: 4508.7086023\ttotal: 1m 2s\tremaining: 38.2s\n",
      "31:\tlearn: 4204.0920810\ttotal: 1m 4s\tremaining: 36.5s\n",
      "32:\tlearn: 3835.5299799\ttotal: 1m 7s\tremaining: 34.7s\n",
      "33:\tlearn: 3785.1965651\ttotal: 1m 9s\tremaining: 32.8s\n",
      "34:\tlearn: 4138.3037881\ttotal: 1m 11s\tremaining: 30.8s\n",
      "35:\tlearn: 4413.7104670\ttotal: 1m 13s\tremaining: 28.7s\n",
      "36:\tlearn: 3987.3225906\ttotal: 1m 15s\tremaining: 26.5s\n",
      "37:\tlearn: 3552.7679586\ttotal: 1m 17s\tremaining: 24.4s\n",
      "38:\tlearn: 4068.6945825\ttotal: 1m 18s\tremaining: 22.3s\n",
      "39:\tlearn: 3787.1551504\ttotal: 1m 20s\tremaining: 20.1s\n",
      "40:\tlearn: 3833.9427656\ttotal: 1m 22s\tremaining: 18s\n",
      "41:\tlearn: 4006.5860226\ttotal: 1m 23s\tremaining: 15.9s\n",
      "42:\tlearn: 4069.6753577\ttotal: 1m 25s\tremaining: 13.9s\n",
      "43:\tlearn: 3814.4359896\ttotal: 1m 26s\tremaining: 11.8s\n",
      "44:\tlearn: 3627.4376673\ttotal: 1m 28s\tremaining: 9.83s\n",
      "45:\tlearn: 3881.1707643\ttotal: 1m 30s\tremaining: 7.84s\n",
      "46:\tlearn: 3795.1638056\ttotal: 1m 31s\tremaining: 5.86s\n",
      "47:\tlearn: 4187.1370387\ttotal: 1m 33s\tremaining: 3.89s\n",
      "48:\tlearn: 4595.5269332\ttotal: 1m 34s\tremaining: 1.94s\n",
      "49:\tlearn: 3777.8317546\ttotal: 1m 36s\tremaining: 0us\n",
      "Count of trees in model = 50\n"
     ]
    }
   ],
   "source": [
    "from catboost import Pool, CatBoostClassifier, cv\n",
    "\n",
    "train_dataset = Pool(data=nw_X_train,\n",
    "                     label=nw_y_train,\n",
    "                     cat_features=[0,1,4,5,6,7])\n",
    "\n",
    "#eval_dataset = Pool(data=nw_X_test,\n",
    "#                    label=nw_y_test,\n",
    "#                    cat_features=[0,1,4,5,6,7])\n",
    "\n",
    "# Initialize CatBoostClassifier\n",
    "model = CatBoostClassifier(iterations=50,\n",
    "                           learning_rate=1,\n",
    "                           depth=2,\n",
    "                           loss_function='MultiClass')\n",
    "\n",
    "# Fit model\n",
    "model.fit(train_dataset)\n",
    "# Get predicted classes\n",
    "preds_class = model.predict(nw_X_test)\n",
    "# Get predicted probabilities for each class\n",
    "preds_proba = model.predict_proba(nw_X_test)\n",
    "# Get predicted RawFormulaVal\n",
    "preds_raw = model.predict(nw_X_test, \n",
    "                          prediction_type='RawFormulaVal')\n",
    "\"\"\"model.fit(train_dataset,\n",
    "          use_best_model=True,\n",
    "          eval_set=eval_dataset)\"\"\"\n",
    "\n",
    "print(\"Count of trees in model = {}\".format(model.tree_count_))"
   ]
  },
  {
   "cell_type": "code",
   "execution_count": 49,
   "metadata": {},
   "outputs": [
    {
     "data": {
      "text/plain": [
       "array([['Bordeaux-style Red Blend'],\n",
       "       ['Red Blend'],\n",
       "       ['Red Blend'],\n",
       "       ...,\n",
       "       ['Pinot Grigio'],\n",
       "       ['Riesling'],\n",
       "       ['Pinot Grigio']], dtype=object)"
      ]
     },
     "execution_count": 49,
     "metadata": {},
     "output_type": "execute_result"
    }
   ],
   "source": [
    "preds_class"
   ]
  },
  {
   "cell_type": "code",
   "execution_count": 50,
   "metadata": {},
   "outputs": [
    {
     "data": {
      "text/html": [
       "<div>\n",
       "<style scoped>\n",
       "    .dataframe tbody tr th:only-of-type {\n",
       "        vertical-align: middle;\n",
       "    }\n",
       "\n",
       "    .dataframe tbody tr th {\n",
       "        vertical-align: top;\n",
       "    }\n",
       "\n",
       "    .dataframe thead th {\n",
       "        text-align: right;\n",
       "    }\n",
       "</style>\n",
       "<table border=\"1\" class=\"dataframe\">\n",
       "  <thead>\n",
       "    <tr style=\"text-align: right;\">\n",
       "      <th></th>\n",
       "      <th>user_name</th>\n",
       "      <th>country</th>\n",
       "      <th>review_title</th>\n",
       "      <th>review_description</th>\n",
       "      <th>designation</th>\n",
       "      <th>points</th>\n",
       "      <th>price</th>\n",
       "      <th>province</th>\n",
       "      <th>region_1</th>\n",
       "      <th>region_2</th>\n",
       "      <th>winery</th>\n",
       "      <th>variety</th>\n",
       "    </tr>\n",
       "  </thead>\n",
       "  <tbody>\n",
       "    <tr>\n",
       "      <th>0</th>\n",
       "      <td>@paulgwine</td>\n",
       "      <td>US</td>\n",
       "      <td>Boedecker Cellars 2011 Athena Pinot Noir (Will...</td>\n",
       "      <td>Nicely differentiated from the companion Stewa...</td>\n",
       "      <td>Athena</td>\n",
       "      <td>88</td>\n",
       "      <td>35.0</td>\n",
       "      <td>Oregon</td>\n",
       "      <td>Willamette Valley</td>\n",
       "      <td>Willamette Valley</td>\n",
       "      <td>Boedecker Cellars</td>\n",
       "      <td>Bordeaux-style Red Blend</td>\n",
       "    </tr>\n",
       "    <tr>\n",
       "      <th>1</th>\n",
       "      <td>@wineschach</td>\n",
       "      <td>Argentina</td>\n",
       "      <td>Mendoza Vineyards 2012 Gran Reserva by Richard...</td>\n",
       "      <td>Charred, smoky, herbal aromas of blackberry tr...</td>\n",
       "      <td>Gran Reserva by Richard Bonvin</td>\n",
       "      <td>90</td>\n",
       "      <td>60.0</td>\n",
       "      <td>Mendoza Province</td>\n",
       "      <td>Mendoza</td>\n",
       "      <td>NaN</td>\n",
       "      <td>Mendoza Vineyards</td>\n",
       "      <td>Red Blend</td>\n",
       "    </tr>\n",
       "    <tr>\n",
       "      <th>2</th>\n",
       "      <td>@vboone</td>\n",
       "      <td>US</td>\n",
       "      <td>Prime 2013 Chardonnay (Coombsville)</td>\n",
       "      <td>Slightly sour and funky in earth, this is a re...</td>\n",
       "      <td>NaN</td>\n",
       "      <td>87</td>\n",
       "      <td>38.0</td>\n",
       "      <td>California</td>\n",
       "      <td>Coombsville</td>\n",
       "      <td>Napa</td>\n",
       "      <td>Prime</td>\n",
       "      <td>Red Blend</td>\n",
       "    </tr>\n",
       "    <tr>\n",
       "      <th>3</th>\n",
       "      <td>@wineschach</td>\n",
       "      <td>Argentina</td>\n",
       "      <td>Bodega Cuarto Dominio 2012 Chento Vineyard Sel...</td>\n",
       "      <td>This concentrated, midnight-black Malbec deliv...</td>\n",
       "      <td>Chento Vineyard Selection</td>\n",
       "      <td>91</td>\n",
       "      <td>20.0</td>\n",
       "      <td>Mendoza Province</td>\n",
       "      <td>Mendoza</td>\n",
       "      <td>NaN</td>\n",
       "      <td>Bodega Cuarto Dominio</td>\n",
       "      <td>Red Blend</td>\n",
       "    </tr>\n",
       "    <tr>\n",
       "      <th>4</th>\n",
       "      <td>@kerinokeefe</td>\n",
       "      <td>Italy</td>\n",
       "      <td>SassodiSole 2012  Brunello di Montalcino</td>\n",
       "      <td>Earthy aromas suggesting grilled porcini, leat...</td>\n",
       "      <td>NaN</td>\n",
       "      <td>90</td>\n",
       "      <td>49.0</td>\n",
       "      <td>Tuscany</td>\n",
       "      <td>Brunello di Montalcino</td>\n",
       "      <td>NaN</td>\n",
       "      <td>SassodiSole</td>\n",
       "      <td>Riesling</td>\n",
       "    </tr>\n",
       "  </tbody>\n",
       "</table>\n",
       "</div>"
      ],
      "text/plain": [
       "      user_name    country                                       review_title  \\\n",
       "0   @paulgwine          US  Boedecker Cellars 2011 Athena Pinot Noir (Will...   \n",
       "1   @wineschach  Argentina  Mendoza Vineyards 2012 Gran Reserva by Richard...   \n",
       "2       @vboone         US                Prime 2013 Chardonnay (Coombsville)   \n",
       "3   @wineschach  Argentina  Bodega Cuarto Dominio 2012 Chento Vineyard Sel...   \n",
       "4  @kerinokeefe      Italy           SassodiSole 2012  Brunello di Montalcino   \n",
       "\n",
       "                                  review_description  \\\n",
       "0  Nicely differentiated from the companion Stewa...   \n",
       "1  Charred, smoky, herbal aromas of blackberry tr...   \n",
       "2  Slightly sour and funky in earth, this is a re...   \n",
       "3  This concentrated, midnight-black Malbec deliv...   \n",
       "4  Earthy aromas suggesting grilled porcini, leat...   \n",
       "\n",
       "                      designation  points  price          province  \\\n",
       "0                          Athena      88   35.0            Oregon   \n",
       "1  Gran Reserva by Richard Bonvin      90   60.0  Mendoza Province   \n",
       "2                             NaN      87   38.0        California   \n",
       "3       Chento Vineyard Selection      91   20.0  Mendoza Province   \n",
       "4                             NaN      90   49.0           Tuscany   \n",
       "\n",
       "                 region_1           region_2                 winery  \\\n",
       "0       Willamette Valley  Willamette Valley      Boedecker Cellars   \n",
       "1                 Mendoza                NaN      Mendoza Vineyards   \n",
       "2             Coombsville               Napa                  Prime   \n",
       "3                 Mendoza                NaN  Bodega Cuarto Dominio   \n",
       "4  Brunello di Montalcino                NaN            SassodiSole   \n",
       "\n",
       "                    variety  \n",
       "0  Bordeaux-style Red Blend  \n",
       "1                 Red Blend  \n",
       "2                 Red Blend  \n",
       "3                 Red Blend  \n",
       "4                  Riesling  "
      ]
     },
     "execution_count": 50,
     "metadata": {},
     "output_type": "execute_result"
    }
   ],
   "source": [
    "test['variety'] = pd.DataFrame(preds_class)\n",
    "test.head()"
   ]
  },
  {
   "cell_type": "code",
   "execution_count": 51,
   "metadata": {},
   "outputs": [
    {
     "data": {
      "text/html": [
       "<div>\n",
       "<style scoped>\n",
       "    .dataframe tbody tr th:only-of-type {\n",
       "        vertical-align: middle;\n",
       "    }\n",
       "\n",
       "    .dataframe tbody tr th {\n",
       "        vertical-align: top;\n",
       "    }\n",
       "\n",
       "    .dataframe thead th {\n",
       "        text-align: right;\n",
       "    }\n",
       "</style>\n",
       "<table border=\"1\" class=\"dataframe\">\n",
       "  <thead>\n",
       "    <tr style=\"text-align: right;\">\n",
       "      <th></th>\n",
       "      <th>user_name</th>\n",
       "      <th>country</th>\n",
       "      <th>review_title</th>\n",
       "      <th>review_description</th>\n",
       "      <th>designation</th>\n",
       "      <th>points</th>\n",
       "      <th>price</th>\n",
       "      <th>province</th>\n",
       "      <th>region_1</th>\n",
       "      <th>region_2</th>\n",
       "      <th>winery</th>\n",
       "      <th>variety</th>\n",
       "    </tr>\n",
       "  </thead>\n",
       "  <tbody>\n",
       "    <tr>\n",
       "      <th>0</th>\n",
       "      <td>NaN</td>\n",
       "      <td>Australia</td>\n",
       "      <td>Andrew Peace 2007 Peace Family Vineyard Chardo...</td>\n",
       "      <td>Classic Chardonnay aromas of apple, pear and h...</td>\n",
       "      <td>Peace Family Vineyard</td>\n",
       "      <td>83</td>\n",
       "      <td>10.0</td>\n",
       "      <td>Australia Other</td>\n",
       "      <td>South Eastern Australia</td>\n",
       "      <td>NaN</td>\n",
       "      <td>Andrew Peace</td>\n",
       "      <td>Chardonnay</td>\n",
       "    </tr>\n",
       "    <tr>\n",
       "      <th>1</th>\n",
       "      <td>@wawinereport</td>\n",
       "      <td>US</td>\n",
       "      <td>North by Northwest 2014 Red (Columbia Valley (...</td>\n",
       "      <td>This wine is near equal parts Syrah and Merlot...</td>\n",
       "      <td>NaN</td>\n",
       "      <td>89</td>\n",
       "      <td>15.0</td>\n",
       "      <td>Washington</td>\n",
       "      <td>Columbia Valley (WA)</td>\n",
       "      <td>Columbia Valley</td>\n",
       "      <td>North by Northwest</td>\n",
       "      <td>Red Blend</td>\n",
       "    </tr>\n",
       "    <tr>\n",
       "      <th>2</th>\n",
       "      <td>NaN</td>\n",
       "      <td>Italy</td>\n",
       "      <td>Renato Ratti 2007 Conca  (Barolo)</td>\n",
       "      <td>Barolo Conca opens with inky dark concentratio...</td>\n",
       "      <td>Conca</td>\n",
       "      <td>94</td>\n",
       "      <td>80.0</td>\n",
       "      <td>Piedmont</td>\n",
       "      <td>Barolo</td>\n",
       "      <td>NaN</td>\n",
       "      <td>Renato Ratti</td>\n",
       "      <td>Nebbiolo</td>\n",
       "    </tr>\n",
       "    <tr>\n",
       "      <th>3</th>\n",
       "      <td>@vossroger</td>\n",
       "      <td>France</td>\n",
       "      <td>Domaine l'Ancienne Cure 2010 L'Abbaye White (B...</td>\n",
       "      <td>It's impressive what a small addition of Sauvi...</td>\n",
       "      <td>L'Abbaye</td>\n",
       "      <td>87</td>\n",
       "      <td>22.0</td>\n",
       "      <td>Southwest France</td>\n",
       "      <td>Bergerac Sec</td>\n",
       "      <td>NaN</td>\n",
       "      <td>Domaine l'Ancienne Cure</td>\n",
       "      <td>Bordeaux-style White Blend</td>\n",
       "    </tr>\n",
       "    <tr>\n",
       "      <th>4</th>\n",
       "      <td>@vossroger</td>\n",
       "      <td>France</td>\n",
       "      <td>Château du Cèdre 2012 Le Cèdre Vintage Malbec ...</td>\n",
       "      <td>This ripe, sweet wine is rich and full of drie...</td>\n",
       "      <td>Le Cèdre Vintage</td>\n",
       "      <td>88</td>\n",
       "      <td>33.0</td>\n",
       "      <td>France Other</td>\n",
       "      <td>Vin de Liqueur</td>\n",
       "      <td>NaN</td>\n",
       "      <td>Château du Cèdre</td>\n",
       "      <td>Malbec</td>\n",
       "    </tr>\n",
       "  </tbody>\n",
       "</table>\n",
       "</div>"
      ],
      "text/plain": [
       "       user_name    country  \\\n",
       "0            NaN  Australia   \n",
       "1  @wawinereport         US   \n",
       "2            NaN      Italy   \n",
       "3     @vossroger     France   \n",
       "4     @vossroger     France   \n",
       "\n",
       "                                        review_title  \\\n",
       "0  Andrew Peace 2007 Peace Family Vineyard Chardo...   \n",
       "1  North by Northwest 2014 Red (Columbia Valley (...   \n",
       "2                  Renato Ratti 2007 Conca  (Barolo)   \n",
       "3  Domaine l'Ancienne Cure 2010 L'Abbaye White (B...   \n",
       "4  Château du Cèdre 2012 Le Cèdre Vintage Malbec ...   \n",
       "\n",
       "                                  review_description            designation  \\\n",
       "0  Classic Chardonnay aromas of apple, pear and h...  Peace Family Vineyard   \n",
       "1  This wine is near equal parts Syrah and Merlot...                    NaN   \n",
       "2  Barolo Conca opens with inky dark concentratio...                  Conca   \n",
       "3  It's impressive what a small addition of Sauvi...               L'Abbaye   \n",
       "4  This ripe, sweet wine is rich and full of drie...       Le Cèdre Vintage   \n",
       "\n",
       "   points  price          province                 region_1         region_2  \\\n",
       "0      83   10.0   Australia Other  South Eastern Australia              NaN   \n",
       "1      89   15.0        Washington     Columbia Valley (WA)  Columbia Valley   \n",
       "2      94   80.0          Piedmont                   Barolo              NaN   \n",
       "3      87   22.0  Southwest France             Bergerac Sec              NaN   \n",
       "4      88   33.0      France Other           Vin de Liqueur              NaN   \n",
       "\n",
       "                    winery                     variety  \n",
       "0             Andrew Peace                  Chardonnay  \n",
       "1       North by Northwest                   Red Blend  \n",
       "2             Renato Ratti                    Nebbiolo  \n",
       "3  Domaine l'Ancienne Cure  Bordeaux-style White Blend  \n",
       "4         Château du Cèdre                      Malbec  "
      ]
     },
     "execution_count": 51,
     "metadata": {},
     "output_type": "execute_result"
    }
   ],
   "source": [
    "train.head()"
   ]
  },
  {
   "cell_type": "code",
   "execution_count": 52,
   "metadata": {},
   "outputs": [],
   "source": [
    "train.to_csv('knight_ML_project_training_dataset.csv')\n",
    "test.to_csv('knight_ML_project_testing_dataset.csv')"
   ]
  },
  {
   "cell_type": "markdown",
   "metadata": {},
   "source": [
    "#  Thanks for your time in reading this notebook."
   ]
  }
 ],
 "metadata": {
  "kernelspec": {
   "display_name": "Python 3",
   "language": "python",
   "name": "python3"
  },
  "language_info": {
   "codemirror_mode": {
    "name": "ipython",
    "version": 3
   },
   "file_extension": ".py",
   "mimetype": "text/x-python",
   "name": "python",
   "nbconvert_exporter": "python",
   "pygments_lexer": "ipython3",
   "version": "3.7.4"
  }
 },
 "nbformat": 4,
 "nbformat_minor": 4
}
